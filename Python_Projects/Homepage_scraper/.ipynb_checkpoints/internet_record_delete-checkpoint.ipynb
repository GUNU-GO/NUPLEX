{
 "cells": [
  {
   "cell_type": "markdown",
   "metadata": {},
   "source": [
    "#### Internet_Record_Delete\n",
    "1. 로그인\n",
    "2. 갤로그 접속\n",
    "3. 삭제 버튼 누르고 alert창 ok누르기\n",
    "4. 계속 반복, 맨위에거만 계속 지울것임"
   ]
  },
  {
   "cell_type": "code",
   "execution_count": 4,
   "metadata": {},
   "outputs": [],
   "source": [
    "from selenium import webdriver\n",
    "import time\n",
    "import requests\n",
    "from bs4 import BeautifulSoup\n",
    "import json\n",
    "from collections import OrderedDict\n",
    "\n",
    "browser = webdriver.Chrome()\n",
    "browser.get('https://www.dcinside.com/')\n",
    "user_id = browser.find_element_by_xpath('//*[@id=\"user_id\"]')\n",
    "password = browser.find_element_by_xpath('//*[@id=\"pw\"]')\n",
    "submit = browser.find_element_by_xpath('//*[@id=\"login_ok\"]')\n",
    "user_id.send_keys(\"reaven09\")\n",
    "password.send_keys('rmsdn1313')\n",
    "submit.click()\n",
    "\n",
    "browser.get('https://gallog.dcinside.com/reaven09/comment')\n",
    "for i in range(10):\n",
    "    button = browser.find_element_by_xpath('//*[@id=\"container\"]/article/div/section/div[1]/div/ul/li[1]/div[2]/div/button')\n",
    "    button.click()\n",
    "    alert = browser.switch_to.alert\n",
    "    alert.accept()\n",
    "    time.sleep(1)\n",
    "\n",
    "# #자동로그인 창 확인\n",
    "# alert = browser.switch_to.alert\n",
    "# alert.accept()\n",
    "# time.sleep(3)\n",
    "# for page_number in range(1,581):\n",
    "#     browser.get('http://nuplex.snu.ac.kr/zeroboard/view.php?id=Research&no=' + str(page_number))\n",
    "#     source = browser.page_source\n",
    "#     soup = BeautifulSoup(source,'html.parser')\n",
    "#     file_data = OrderedDict()\n",
    "#     for tr_tag in soup.find_all('tr',class_='title'):\n",
    "#         file_data['title'] = str(tr_tag.find('td').find('b').text)\n",
    "#         print(tr_tag.find('td').find('b').text)\n",
    "        \n",
    "#     for td_tag in soup.find_all('td',class_='list_han'):\n",
    "#         sorted_content = str(td_tag.text).replace('\\n','<br>')\n",
    "#         file_data['content'] = sorted_content\n",
    "#         print(td_tag.text)\n",
    "#     k = 1\n",
    "#     for font_tag in soup.find_all('font', class_ = 'list_eng'):\n",
    "#         if font_tag.find('a',{'onfocus':'blur()'}):\n",
    "#             continue\n",
    "#         download_url = font_tag.find('a')\n",
    "#         if download_url == None:\n",
    "#                 continue\n",
    "#         download_url = str(download_url)[:9]+'http://nuplex.snu.ac.kr/zeroboard/'+str(download_url)[9:]\n",
    "#         print(download_url)\n",
    "#         file_data['download'+str(k)] = str(download_url)\n",
    "#         k += 1\n",
    "#     if str(tr_tag.find('td').find('b').text) != 'Message':\n",
    "#         with open(r'C:/Users/metyu/NUPLEX/json_data/new/'+str(n)+'.json', 'w', encoding='utf-8') as f:\n",
    "#             json.dump(file_data, f, ensure_ascii=False, indent='\\t')\n",
    "#         n += 1"
   ]
  },
  {
   "cell_type": "code",
   "execution_count": null,
   "metadata": {},
   "outputs": [],
   "source": []
  }
 ],
 "metadata": {
  "kernelspec": {
   "display_name": "Python 3",
   "language": "python",
   "name": "python3"
  },
  "language_info": {
   "codemirror_mode": {
    "name": "ipython",
    "version": 3
   },
   "file_extension": ".py",
   "mimetype": "text/x-python",
   "name": "python",
   "nbconvert_exporter": "python",
   "pygments_lexer": "ipython3",
   "version": "3.6.9"
  }
 },
 "nbformat": 4,
 "nbformat_minor": 4
}
