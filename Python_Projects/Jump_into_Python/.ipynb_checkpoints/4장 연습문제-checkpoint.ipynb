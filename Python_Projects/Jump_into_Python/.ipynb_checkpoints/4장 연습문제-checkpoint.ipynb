{
 "cells": [
  {
   "cell_type": "markdown",
   "metadata": {},
   "source": [
    "Q1\n",
    "주어진 자연수가 홀수인지 짝수인지 판별해 주는 함수(is_odd)를 작성해 보자.\n",
    "\n",
    "Q2\n",
    "입력으로 들어오는 모든 수의 평균 값을 계산해 주는 함수를 작성해 보자. (단 입력으로 들어오는 수의 개수는 정해져 있지 않다.)\n",
    "\n",
    "※ 평균 값을 구할 때 len 함수를 사용해 보자.\n",
    "\n",
    "Q3\n",
    "다음은 두 개의 숫자를 입력받아 더하여 돌려주는 프로그램이다.\n",
    "\n",
    "input1 = input(\"첫번째 숫자를 입력하세요:\")\n",
    "input2 = input(\"두번째 숫자를 입력하세요:\")\n",
    "\n",
    "total = input1 + input2\n",
    "print(\"두 수의 합은 %s 입니다\" % total)\n",
    "이 프로그램을 수행해 보자.\n",
    "\n",
    "첫번째 숫자를 입력하세요:3\n",
    "두번째 숫자를 입력하세요:6\n",
    "두 수의 합은 36 입니다\n",
    "3과 6을 입력했을 때 9가 아닌 36이라는 결괏값을 돌려주었다. 이 프로그램의 오류를 수정해 보자.\n",
    "\n",
    "※ int 함수를 사용해 보자.\n",
    "\n",
    "Q4\n",
    "다음 중 출력 결과가 다른 것 한 개를 골라 보자.\n",
    "\n",
    "print(\"you\" \"need\" \"python\")<br>\n",
    "print(\"you\"+\"need\"+\"python\")<br>\n",
    "print(\"you\", \"need\", \"python\")<br>\n",
    "print(\"\".join([\"you\", \"need\", \"python\"]))<br>\n",
    "Q5\n",
    "다음은 \"test.txt\"라는 파일에 \"Life is too short\" 문자열을 저장한 후 다시 그 파일을 읽어서 출력하는 프로그램이다.<br>\n",
    "\n",
    "f1 = open(\"test.txt\", 'w')<br>\n",
    "f1.write(\"Life is too short\")<br>\n",
    "\n",
    "f2 = open(\"test.txt\", 'r')<br><br>\n",
    "print(f2.read())<br>\n",
    "이 프로그램은 우리가 예상한 \"Life is too short\"라는 문장을 출력하지 않는다. 우리가 예상한 값을 출력할 수 있도록 프로그램을 수정해 보자.\n",
    "\n",
    "Q6\n",
    "사용자의 입력을 파일(test.txt)에 저장하는 프로그램을 작성해 보자. (단 프로그램을 다시 실행하더라도 기존에 작성한 내용을 유지하고 새로 입력한 내용을 추가해야 한다.)\n",
    "\n",
    "Q7\n",
    "다음과 같은 내용을 지닌 파일 test.txt가 있다. 이 파일의 내용 중 \"java\"라는 문자열을 \"python\"으로 바꾸어서 저장해 보자.\n",
    "\n",
    "Life is too short\n",
    "you need java\n",
    "※ replace 함수를 사용해 보자."
   ]
  },
  {
   "cell_type": "code",
   "execution_count": 3,
   "metadata": {},
   "outputs": [],
   "source": [
    "#Q1\n",
    "def is_odd(number):\n",
    "    if number % 2 == 0:\n",
    "        return True\n",
    "    else:\n",
    "        return False"
   ]
  },
  {
   "cell_type": "code",
   "execution_count": 22,
   "metadata": {},
   "outputs": [
    {
     "data": {
      "text/plain": [
       "4.5"
      ]
     },
     "execution_count": 22,
     "metadata": {},
     "output_type": "execute_result"
    }
   ],
   "source": [
    "#Q2\n",
    "def average(*args):\n",
    "    result = 0\n",
    "    for i in args:\n",
    "        result += i\n",
    "    return result/len(args)\n",
    "\n",
    "average(1,8)"
   ]
  },
  {
   "cell_type": "code",
   "execution_count": 24,
   "metadata": {},
   "outputs": [
    {
     "name": "stdin",
     "output_type": "stream",
     "text": [
      "첫번째 숫자를 입력하세요: 1\n",
      "두번째 숫자를 입력하세요: 2\n"
     ]
    },
    {
     "name": "stdout",
     "output_type": "stream",
     "text": [
      "두 수의 합은 3 입니다\n"
     ]
    }
   ],
   "source": [
    "#Q3\n",
    "input1 = input(\"첫번째 숫자를 입력하세요:\")\n",
    "input2 = input(\"두번째 숫자를 입력하세요:\")\n",
    "\n",
    "total = int(input1) + int(input2)\n",
    "print(\"두 수의 합은 %s 입니다\" % total)"
   ]
  },
  {
   "cell_type": "code",
   "execution_count": 25,
   "metadata": {},
   "outputs": [
    {
     "name": "stdout",
     "output_type": "stream",
     "text": [
      "youneedpython\n",
      "youneedpython\n",
      "you need python\n",
      "youneedpython\n"
     ]
    }
   ],
   "source": [
    "#Q4\n",
    "print(\"you\" \"need\" \"python\")\n",
    "print(\"you\"+\"need\"+\"python\")\n",
    "print(\"you\", \"need\", \"python\") # 이게 다르다\n",
    "print(\"\".join([\"you\", \"need\", \"python\"]))"
   ]
  },
  {
   "cell_type": "code",
   "execution_count": 67,
   "metadata": {},
   "outputs": [
    {
     "name": "stdout",
     "output_type": "stream",
     "text": [
      "Life is too short\n"
     ]
    }
   ],
   "source": [
    "#Q5\n",
    "with open(\"test.txt\", 'w') as f1:\n",
    "    f1.write(\"Life is too short\")\n",
    "\n",
    "f2 = open(\"test.txt\", 'r')\n",
    "print(f2.read())"
   ]
  },
  {
   "cell_type": "code",
   "execution_count": 47,
   "metadata": {},
   "outputs": [
    {
     "name": "stdin",
     "output_type": "stream",
     "text": [
      "내용을 입력해주세요\n",
      " 4\n"
     ]
    }
   ],
   "source": [
    "#Q6\n",
    "content = input('내용을 입력해주세요\\n')\n",
    "with open('Q6_Sample.txt', 'a') as file:\n",
    "    file.write(content+'\\n')"
   ]
  },
  {
   "cell_type": "code",
   "execution_count": 66,
   "metadata": {},
   "outputs": [],
   "source": [
    "#Q7\n",
    "with open('test1.txt','r') as file:\n",
    "    replace_content = file.read().replace('java','python')\n",
    "with open('test1.txt','w') as file:\n",
    "    file.write(replace_content)"
   ]
  }
 ],
 "metadata": {
  "kernelspec": {
   "display_name": "Python 3",
   "language": "python",
   "name": "python3"
  },
  "language_info": {
   "codemirror_mode": {
    "name": "ipython",
    "version": 3
   },
   "file_extension": ".py",
   "mimetype": "text/x-python",
   "name": "python",
   "nbconvert_exporter": "python",
   "pygments_lexer": "ipython3",
   "version": "3.6.9"
  }
 },
 "nbformat": 4,
 "nbformat_minor": 4
}
