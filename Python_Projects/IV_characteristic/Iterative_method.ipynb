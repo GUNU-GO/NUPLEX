{
 "cells": [
  {
   "cell_type": "markdown",
   "metadata": {},
   "source": [
    "## Constant from IV-characteristics : <font color = 'sky blue'> $n_e, T_e, T_-, I_{sat+}$ </font>\n",
    "<font size=\"2\">\n",
    "    We use classical Langmuir probe method here to obtain constants listed above. <br><br>\n",
    "    $n_e=\\frac{I(V_p)}{eA} (\\frac{2\\pi m_e}{T_e})^{1/2} $ <br><br>\n",
    "    $I(V_p)$ is probe current at plasma potential, $A$ is probe surface area.<br><br>\n",
    "    $T_e = \\frac{4\\sqrt{2m_e/e}}{3n_eA} \\int_{0}^{-\\infty} I''(V) {|V|}^{3/2} dV$ <br><br>\n",
    "    We can get $I''(V)$ from second derivative and $I_{sat+}$ from most negative probe potential. $T_-$ would be given value. <br><br>\n",
    "    \n",
    "</font>"
   ]
  },
  {
   "cell_type": "code",
   "execution_count": 1,
   "metadata": {},
   "outputs": [],
   "source": [
    "import numpy as np\n",
    "from scipy.optimize import fsolve\n",
    "from scipy.integrate import solve_ivp\n",
    "\n",
    "### Physical constant ###\n",
    "e = 1.6e-19 #electron charge [C]\n",
    "mp = 1 #mass of positive ion [kg]\n",
    "mn = 1 #mass of negative ion [kg]\n",
    "h_r = 0.6\n",
    "e0 = 8.854e-12 #permittivity of vacuum [F/m]\n",
    "\n",
    "### Constant from IV-characterstics ###\n",
    "ne  = 1 # Electron density [#/m3]\n",
    "Te = 5  # Electron temperature [eV]\n",
    "Tm = 1  # Negative ion temperature [eV]\n",
    "Vsatp = 3 # Most negative probe potential [V]\n",
    "Isatp = 4 # Positive ion saturation current [A]\n"
   ]
  },
  {
   "cell_type": "markdown",
   "metadata": {},
   "source": [
    "## Iteration method : <font color = 'purple'> </font>\n",
    "<font size = '2'>\n",
    "    Initial value : <font color = 'sky blue'> $\\alpha_{0,0} = 2, r_{sh,0} = 0$ </font><br><br>\n",
    "    Constant value : <font color = 'sky blue'> $n_e, T_e, T_-, I_{sat+}, h_r$ </font><br><br>\n",
    "    We can also define $\\alpha_{s,0}$ by relation between $\\alpha_0$ and $\\alpha_s$<br><br>\n",
    "    Update modified Bohm speed : $u_{B+,k}^* = \\sqrt{\\frac{e T_e}{m_+}}\\sqrt{\\frac{1+\\alpha_{s,k-1}}{1+\\gamma \\alpha_{s,k-1}}}$<br><br>\n",
    "    Update ion density : $n_{+,k} = \\frac{I_{sat+}}{h_r S_{eff,k-1}e u_{B+,k}^*}$ (Bohm flux) <br><br>\n",
    "    Update electronegativity : $\\alpha_{0,k} = \\frac{n_{+,k}}{n_e}-1$ <br><br>\n",
    "    Update $\\alpha_{s,k}$ : $\\alpha_{0,k} = \\alpha_{s,k} exp(-\\frac{1}{2} (\\frac{1+\\alpha_{s,k}}{1+\\gamma \\alpha_{s,k}})(1-\\gamma))$<br><br>\n",
    "    Update positive ion current density : $J_{+,k} = h_r e n_{+,k}u_{B+,k}^*$ <br><br>\n",
    "    Update $r_{sh}$ : $\\frac{du}{dr} = \\frac{eE}{m_+u(r)}, \\frac{dE}{dr} = \\frac{r_{sh}J_0}{r\\epsilon_0u(r)}-\\frac{E}{r}$ <br><br>\n",
    "    Update effective ion collecting area : $S_{eff,k} = 2\\pi s_k l$ where $s_k = r_{sh,k} + a $<br><br> \n",
    "    From this point, all values are re-injected to Modified Bohm speed equation for new iteration. <br><br>\n",
    "    Iteration is stopped when $|\\alpha_{0,k-1}-\\alpha_{0,k}|<0.01\\alpha_{0,k}$ <br><br>\n",
    "    $S_{eff}(V) = 2\\pi l r_{sh}(V) + 2\\pi r_{sh}^2(V)$ <br><br>\n",
    "</font>"
   ]
  },
  {
   "cell_type": "code",
   "execution_count": 11,
   "metadata": {},
   "outputs": [],
   "source": [
    "class iter_method:\n",
    "    def __init__(self, ne, Te, Tm, Isatp):\n",
    "        self.ne = ne \n",
    "        self.Te = Te \n",
    "        self.Tm = Tm \n",
    "        self.Isatp = Isatp\n",
    "        self.gamma = Te/Tm\n",
    "        self.a_0 = 2\n",
    "        \n",
    "    def alpha_calculation(self,a_0):\n",
    "        func = lambda a_s : a_0-a_s*np.exp(-0.5*((1+a_s)/(1+self.gamma*a_s))*(1-self.gamma))\n",
    "        init_a_s = [1e-5,1e-4,1e-3,1e-2,1e-1,1,1e1,1e2]\n",
    "        return max(np.unique(np.round(fsolve(func, init_a_s),12))) #choose max value (need to determine what value we choose)\n",
    "    \n",
    "    def r_sh_calculation(self, J_k, u_Bk, V_satp):\n",
    "        def f(r, q):\n",
    "            R = 1\n",
    "            u, E = q\n",
    "            dudr = e*E/(mp*u)\n",
    "            dEdr = R*J_k/(r*e0*u)-E/r\n",
    "            return dudr, dEdr\n",
    "        sol = solve_ivp(f, (0, 1e-1), (0,u_Bk))\n",
    "        return sol-probe_radius\n",
    "    \n",
    "    def iteration(self):\n",
    "        a_0k1 = self.a_0+2 #for passing through first iteration\n",
    "        a_0k2 = self.a_0\n",
    "        iter_count = 0\n",
    "        probe_radius = 2e-3 #diameter = 4 [mm]\n",
    "        probe_length = 10e-3 #length = 10 [mm]\n",
    "        \n",
    "        r_shk = 0 #initial sheath size\n",
    "        S_eff = 2*np.pi*(probe_radius+r_shk)*probe_length #initial S_eff\n",
    "        self.a_s = self.alpha_calculation(a_0k1)\n",
    "        self.a_s = max(self.a_s) #initial a_s\n",
    "        \n",
    "        while(True): \n",
    "            if (abs(a_0k1-a_0k2) < 0.01*a_0k1): #iteration stop condition\n",
    "                print('iteration complete!')\n",
    "                break\n",
    "            iter_count += 1\n",
    "            a_0k1 = a_0k2\n",
    "            u_Bk = np.sqrt(e*self.Te/mp)*np.sqrt((1+self.a_s)/(1+self.gamma*self.a_s)) #update u_Bk\n",
    "            n_k = self.Isatp/(h_r*S_eff*u_Bk) #update n_k\n",
    "            a_0k2 = n_k/ne-1 #update a_0k\n",
    "            J_k = h_r*e*n_k*u_Bk #calculate J_k\n",
    "            r_shk = self.r_sh_calculation(J_k, u_Bk, V_satp) #J_k 이용한 r_shk 업데이트 식임 (r_sh_calculation 작업필요)\n",
    "            S_eff = 2*np.pi*(probe_radius+r_shk)*probe_length #update S_eff\n",
    "            self.a_s = self.alpha_calculation(a_0k1) #update a_sk\n",
    "            print('iteration : ', iter_count)\n",
    "        "
   ]
  },
  {
   "cell_type": "code",
   "execution_count": 19,
   "metadata": {},
   "outputs": [
    {
     "data": {
      "text/plain": [
       "(0.01, 100.0)"
      ]
     },
     "execution_count": 19,
     "metadata": {},
     "output_type": "execute_result"
    },
    {
     "data": {
      "image/png": "[encoded data removed]",
      "text/plain": [
       "<Figure size 432x288 with 1 Axes>"
      ]
     },
     "metadata": {
      "needs_background": "light"
     },
     "output_type": "display_data"
    }
   ],
   "source": [
    "import numpy as np\n",
    "import matplotlib.pyplot as plt\n",
    "M = 1.67e-27*127\n",
    "J0 = 10\n",
    "a = 25e-6\n",
    "\n",
    "def s_cal(V):\n",
    "    return np.sqrt((4/9)*e0*(2*e/M)**0.5*V**1.5/J0)\n",
    "\n",
    "V = np.linspace(1e-2,1e2,1000)\n",
    "result = s_cal(V)/a\n",
    "\n",
    "plt.plot(result,V)\n",
    "plt.xscale('log')\n",
    "plt.yscale('log')\n",
    "plt.xlim(1e-2, 1e1)\n",
    "plt.ylim(1e-2, 1e2)"
   ]
  },
  {
   "cell_type": "code",
   "execution_count": 20,
   "metadata": {},
   "outputs": [],
   "source": [
    "import numpy as np\n",
    "import matplotlib.pyplot as plt\n",
    "\n",
    "def CLsheath(x):\n",
    "    dudr =e*E/M/u\n",
    "    dEdr = R*J0/(r*e0*u)-E/r\n",
    "    \n",
    "    return [dudr, dEdr]\n",
    "\n"
   ]
  },
  {
   "cell_type": "code",
   "execution_count": 3,
   "metadata": {},
   "outputs": [
    {
     "data": {
      "image/png": "[encoded data removed]",
      "text/plain": [
       "<Figure size 432x288 with 1 Axes>"
      ]
     },
     "metadata": {
      "needs_background": "light"
     },
     "output_type": "display_data"
    }
   ],
   "source": [
    "import numpy as np\n",
    "import matplotlib.pyplot as plt\n",
    "\n",
    "L=np.pi # value chosen for the critical length\n",
    "s=101 # number of steps in x\n",
    "t=10002 # number of timesteps\n",
    "ds=L/(s-1) # step in x\n",
    "dt=0.0001 # time step\n",
    "D=1 # diffusion constant, set equal to 1\n",
    "C=1 # creation rate of neutrons, set equal to 1\n",
    "Alpha=(D*dt)/(ds*ds) # constant for diffusion term\n",
    "Beta=C*dt # constant for u term\n",
    "\n",
    "x = np.linspace(-L/2, 0, num=51)\n",
    "x = np.concatenate([x, np.linspace(x[-1] - x[-2], L/2, num=50)]) # setting x in the specified interval\n",
    "u=np.zeros(shape=(s,t)) #setting the function u\n",
    "u[50,0]=1/ds # delta function\n",
    "for k in range(0,t-1):\n",
    "    u[0,k]=0 # boundary conditions\n",
    "    u[s-1,k]=0\n",
    "    for i in range(1,s-1):\n",
    "        u[i,k+1]=(1+Beta-2*Alpha)*u[i,k]+Alpha*u[i+1,k]+Alpha*u[i-1,k] # numerical solution  \n",
    "    if k == 50 or k == 100 or k == 250 or k == 500 or k == 1000 or k==5000 or k == 10000: # plotting at times\n",
    "        plt.plot(x,u[:,k])\n",
    "\n",
    "plt.title('Numerical Solution of the Diffusion equation over time')\n",
    "plt.xlabel('x')\n",
    "plt.ylabel('u(x,t)')\n",
    "plt.show()\n"
   ]
  },
  {
   "cell_type": "code",
   "execution_count": 2,
   "metadata": {},
   "outputs": [
    {
     "name": "stderr",
     "output_type": "stream",
     "text": [
      "c:\\users\\gunu\\anaconda3\\envs\\py_36\\lib\\site-packages\\ipykernel_launcher.py:6: RuntimeWarning: divide by zero encountered in double_scalars\n",
      "  \n",
      "c:\\users\\gunu\\anaconda3\\envs\\py_36\\lib\\site-packages\\ipykernel_launcher.py:7: RuntimeWarning: divide by zero encountered in double_scalars\n",
      "  import sys\n",
      "c:\\users\\gunu\\anaconda3\\envs\\py_36\\lib\\site-packages\\ipykernel_launcher.py:7: RuntimeWarning: invalid value encountered in double_scalars\n",
      "  import sys\n"
     ]
    },
    {
     "ename": "KeyboardInterrupt",
     "evalue": "",
     "output_type": "error",
     "traceback": [
      "\u001b[1;31m---------------------------------------------------------------------------\u001b[0m",
      "\u001b[1;31mKeyboardInterrupt\u001b[0m                         Traceback (most recent call last)",
      "\u001b[1;32m<ipython-input-2-a186dfd7e6ca>\u001b[0m in \u001b[0;36m<module>\u001b[1;34m\u001b[0m\n\u001b[0;32m      7\u001b[0m     \u001b[0mdEdr\u001b[0m \u001b[1;33m=\u001b[0m \u001b[0mR\u001b[0m\u001b[1;33m*\u001b[0m\u001b[0mJ_k\u001b[0m\u001b[1;33m/\u001b[0m\u001b[1;33m(\u001b[0m\u001b[0mr\u001b[0m\u001b[1;33m*\u001b[0m\u001b[0me0\u001b[0m\u001b[1;33m*\u001b[0m\u001b[0mu\u001b[0m\u001b[1;33m)\u001b[0m\u001b[1;33m-\u001b[0m\u001b[0mE\u001b[0m\u001b[1;33m/\u001b[0m\u001b[0mr\u001b[0m\u001b[1;33m\u001b[0m\u001b[1;33m\u001b[0m\u001b[0m\n\u001b[0;32m      8\u001b[0m     \u001b[1;32mreturn\u001b[0m \u001b[0mdudr\u001b[0m\u001b[1;33m,\u001b[0m \u001b[0mdEdr\u001b[0m\u001b[1;33m\u001b[0m\u001b[1;33m\u001b[0m\u001b[0m\n\u001b[1;32m----> 9\u001b[1;33m \u001b[0msol\u001b[0m \u001b[1;33m=\u001b[0m \u001b[0msolve_ivp\u001b[0m\u001b[1;33m(\u001b[0m\u001b[0mf\u001b[0m\u001b[1;33m,\u001b[0m \u001b[1;33m(\u001b[0m\u001b[1;36m0\u001b[0m\u001b[1;33m,\u001b[0m \u001b[1;36m1e-1\u001b[0m\u001b[1;33m)\u001b[0m\u001b[1;33m,\u001b[0m \u001b[1;33m(\u001b[0m\u001b[1;36m0\u001b[0m\u001b[1;33m,\u001b[0m\u001b[0mu_Bk\u001b[0m\u001b[1;33m)\u001b[0m\u001b[1;33m)\u001b[0m\u001b[1;33m\u001b[0m\u001b[1;33m\u001b[0m\u001b[0m\n\u001b[0m",
      "\u001b[1;32mc:\\users\\gunu\\anaconda3\\envs\\py_36\\lib\\site-packages\\scipy\\integrate\\_ivp\\ivp.py\u001b[0m in \u001b[0;36msolve_ivp\u001b[1;34m(fun, t_span, y0, method, t_eval, dense_output, events, vectorized, args, **options)\u001b[0m\n\u001b[0;32m    575\u001b[0m     \u001b[0mstatus\u001b[0m \u001b[1;33m=\u001b[0m \u001b[1;32mNone\u001b[0m\u001b[1;33m\u001b[0m\u001b[1;33m\u001b[0m\u001b[0m\n\u001b[0;32m    576\u001b[0m     \u001b[1;32mwhile\u001b[0m \u001b[0mstatus\u001b[0m \u001b[1;32mis\u001b[0m \u001b[1;32mNone\u001b[0m\u001b[1;33m:\u001b[0m\u001b[1;33m\u001b[0m\u001b[1;33m\u001b[0m\u001b[0m\n\u001b[1;32m--> 577\u001b[1;33m         \u001b[0mmessage\u001b[0m \u001b[1;33m=\u001b[0m \u001b[0msolver\u001b[0m\u001b[1;33m.\u001b[0m\u001b[0mstep\u001b[0m\u001b[1;33m(\u001b[0m\u001b[1;33m)\u001b[0m\u001b[1;33m\u001b[0m\u001b[1;33m\u001b[0m\u001b[0m\n\u001b[0m\u001b[0;32m    578\u001b[0m \u001b[1;33m\u001b[0m\u001b[0m\n\u001b[0;32m    579\u001b[0m         \u001b[1;32mif\u001b[0m \u001b[0msolver\u001b[0m\u001b[1;33m.\u001b[0m\u001b[0mstatus\u001b[0m \u001b[1;33m==\u001b[0m \u001b[1;34m'finished'\u001b[0m\u001b[1;33m:\u001b[0m\u001b[1;33m\u001b[0m\u001b[1;33m\u001b[0m\u001b[0m\n",
      "\u001b[1;32mc:\\users\\gunu\\anaconda3\\envs\\py_36\\lib\\site-packages\\scipy\\integrate\\_ivp\\base.py\u001b[0m in \u001b[0;36mstep\u001b[1;34m(self)\u001b[0m\n\u001b[0;32m    180\u001b[0m         \u001b[1;32melse\u001b[0m\u001b[1;33m:\u001b[0m\u001b[1;33m\u001b[0m\u001b[1;33m\u001b[0m\u001b[0m\n\u001b[0;32m    181\u001b[0m             \u001b[0mt\u001b[0m \u001b[1;33m=\u001b[0m \u001b[0mself\u001b[0m\u001b[1;33m.\u001b[0m\u001b[0mt\u001b[0m\u001b[1;33m\u001b[0m\u001b[1;33m\u001b[0m\u001b[0m\n\u001b[1;32m--> 182\u001b[1;33m             \u001b[0msuccess\u001b[0m\u001b[1;33m,\u001b[0m \u001b[0mmessage\u001b[0m \u001b[1;33m=\u001b[0m \u001b[0mself\u001b[0m\u001b[1;33m.\u001b[0m\u001b[0m_step_impl\u001b[0m\u001b[1;33m(\u001b[0m\u001b[1;33m)\u001b[0m\u001b[1;33m\u001b[0m\u001b[1;33m\u001b[0m\u001b[0m\n\u001b[0m\u001b[0;32m    183\u001b[0m \u001b[1;33m\u001b[0m\u001b[0m\n\u001b[0;32m    184\u001b[0m             \u001b[1;32mif\u001b[0m \u001b[1;32mnot\u001b[0m \u001b[0msuccess\u001b[0m\u001b[1;33m:\u001b[0m\u001b[1;33m\u001b[0m\u001b[1;33m\u001b[0m\u001b[0m\n",
      "\u001b[1;32mc:\\users\\gunu\\anaconda3\\envs\\py_36\\lib\\site-packages\\scipy\\integrate\\_ivp\\rk.py\u001b[0m in \u001b[0;36m_step_impl\u001b[1;34m(self)\u001b[0m\n\u001b[0;32m    144\u001b[0m \u001b[1;33m\u001b[0m\u001b[0m\n\u001b[0;32m    145\u001b[0m             y_new, f_new = rk_step(self.fun, t, y, self.f, h, self.A,\n\u001b[1;32m--> 146\u001b[1;33m                                    self.B, self.C, self.K)\n\u001b[0m\u001b[0;32m    147\u001b[0m             \u001b[0mscale\u001b[0m \u001b[1;33m=\u001b[0m \u001b[0matol\u001b[0m \u001b[1;33m+\u001b[0m \u001b[0mnp\u001b[0m\u001b[1;33m.\u001b[0m\u001b[0mmaximum\u001b[0m\u001b[1;33m(\u001b[0m\u001b[0mnp\u001b[0m\u001b[1;33m.\u001b[0m\u001b[0mabs\u001b[0m\u001b[1;33m(\u001b[0m\u001b[0my\u001b[0m\u001b[1;33m)\u001b[0m\u001b[1;33m,\u001b[0m \u001b[0mnp\u001b[0m\u001b[1;33m.\u001b[0m\u001b[0mabs\u001b[0m\u001b[1;33m(\u001b[0m\u001b[0my_new\u001b[0m\u001b[1;33m)\u001b[0m\u001b[1;33m)\u001b[0m \u001b[1;33m*\u001b[0m \u001b[0mrtol\u001b[0m\u001b[1;33m\u001b[0m\u001b[1;33m\u001b[0m\u001b[0m\n\u001b[0;32m    148\u001b[0m             \u001b[0merror_norm\u001b[0m \u001b[1;33m=\u001b[0m \u001b[0mself\u001b[0m\u001b[1;33m.\u001b[0m\u001b[0m_estimate_error_norm\u001b[0m\u001b[1;33m(\u001b[0m\u001b[0mself\u001b[0m\u001b[1;33m.\u001b[0m\u001b[0mK\u001b[0m\u001b[1;33m,\u001b[0m \u001b[0mh\u001b[0m\u001b[1;33m,\u001b[0m \u001b[0mscale\u001b[0m\u001b[1;33m)\u001b[0m\u001b[1;33m\u001b[0m\u001b[1;33m\u001b[0m\u001b[0m\n",
      "\u001b[1;32mc:\\users\\gunu\\anaconda3\\envs\\py_36\\lib\\site-packages\\scipy\\integrate\\_ivp\\rk.py\u001b[0m in \u001b[0;36mrk_step\u001b[1;34m(fun, t, y, f, h, A, B, C, K)\u001b[0m\n\u001b[0;32m     62\u001b[0m     \u001b[0mK\u001b[0m\u001b[1;33m[\u001b[0m\u001b[1;36m0\u001b[0m\u001b[1;33m]\u001b[0m \u001b[1;33m=\u001b[0m \u001b[0mf\u001b[0m\u001b[1;33m\u001b[0m\u001b[1;33m\u001b[0m\u001b[0m\n\u001b[0;32m     63\u001b[0m     \u001b[1;32mfor\u001b[0m \u001b[0ms\u001b[0m\u001b[1;33m,\u001b[0m \u001b[1;33m(\u001b[0m\u001b[0ma\u001b[0m\u001b[1;33m,\u001b[0m \u001b[0mc\u001b[0m\u001b[1;33m)\u001b[0m \u001b[1;32min\u001b[0m \u001b[0menumerate\u001b[0m\u001b[1;33m(\u001b[0m\u001b[0mzip\u001b[0m\u001b[1;33m(\u001b[0m\u001b[0mA\u001b[0m\u001b[1;33m[\u001b[0m\u001b[1;36m1\u001b[0m\u001b[1;33m:\u001b[0m\u001b[1;33m]\u001b[0m\u001b[1;33m,\u001b[0m \u001b[0mC\u001b[0m\u001b[1;33m[\u001b[0m\u001b[1;36m1\u001b[0m\u001b[1;33m:\u001b[0m\u001b[1;33m]\u001b[0m\u001b[1;33m)\u001b[0m\u001b[1;33m,\u001b[0m \u001b[0mstart\u001b[0m\u001b[1;33m=\u001b[0m\u001b[1;36m1\u001b[0m\u001b[1;33m)\u001b[0m\u001b[1;33m:\u001b[0m\u001b[1;33m\u001b[0m\u001b[1;33m\u001b[0m\u001b[0m\n\u001b[1;32m---> 64\u001b[1;33m         \u001b[0mdy\u001b[0m \u001b[1;33m=\u001b[0m \u001b[0mnp\u001b[0m\u001b[1;33m.\u001b[0m\u001b[0mdot\u001b[0m\u001b[1;33m(\u001b[0m\u001b[0mK\u001b[0m\u001b[1;33m[\u001b[0m\u001b[1;33m:\u001b[0m\u001b[0ms\u001b[0m\u001b[1;33m]\u001b[0m\u001b[1;33m.\u001b[0m\u001b[0mT\u001b[0m\u001b[1;33m,\u001b[0m \u001b[0ma\u001b[0m\u001b[1;33m[\u001b[0m\u001b[1;33m:\u001b[0m\u001b[0ms\u001b[0m\u001b[1;33m]\u001b[0m\u001b[1;33m)\u001b[0m \u001b[1;33m*\u001b[0m \u001b[0mh\u001b[0m\u001b[1;33m\u001b[0m\u001b[1;33m\u001b[0m\u001b[0m\n\u001b[0m\u001b[0;32m     65\u001b[0m         \u001b[0mK\u001b[0m\u001b[1;33m[\u001b[0m\u001b[0ms\u001b[0m\u001b[1;33m]\u001b[0m \u001b[1;33m=\u001b[0m \u001b[0mfun\u001b[0m\u001b[1;33m(\u001b[0m\u001b[0mt\u001b[0m \u001b[1;33m+\u001b[0m \u001b[0mc\u001b[0m \u001b[1;33m*\u001b[0m \u001b[0mh\u001b[0m\u001b[1;33m,\u001b[0m \u001b[0my\u001b[0m \u001b[1;33m+\u001b[0m \u001b[0mdy\u001b[0m\u001b[1;33m)\u001b[0m\u001b[1;33m\u001b[0m\u001b[1;33m\u001b[0m\u001b[0m\n\u001b[0;32m     66\u001b[0m \u001b[1;33m\u001b[0m\u001b[0m\n",
      "\u001b[1;32m<__array_function__ internals>\u001b[0m in \u001b[0;36mdot\u001b[1;34m(*args, **kwargs)\u001b[0m\n",
      "\u001b[1;31mKeyboardInterrupt\u001b[0m: "
     ]
    }
   ],
   "source": [
    "u_Bk = 1e4\n",
    "J_k = 10\n",
    "def f(r, q):\n",
    "    R = 1\n",
    "    u, E = q\n",
    "    dudr = e*E/(mp*u)\n",
    "    dEdr = R*J_k/(r*e0*u)-E/r\n",
    "    return dudr, dEdr\n",
    "sol = solve_ivp(f, (0, 1e-1), (0,u_Bk))"
   ]
  },
  {
   "cell_type": "code",
   "execution_count": null,
   "metadata": {},
   "outputs": [],
   "source": [
    "a"
   ]
  }
 ],
 "metadata": {
  "kernelspec": {
   "display_name": "Python 3",
   "language": "python",
   "name": "python3"
  },
  "language_info": {
   "codemirror_mode": {
    "name": "ipython",
    "version": 3
   },
   "file_extension": ".py",
   "mimetype": "text/x-python",
   "name": "python",
   "nbconvert_exporter": "python",
   "pygments_lexer": "ipython3",
   "version": "3.6.10"
  }
 },
 "nbformat": 4,
 "nbformat_minor": 4
}
