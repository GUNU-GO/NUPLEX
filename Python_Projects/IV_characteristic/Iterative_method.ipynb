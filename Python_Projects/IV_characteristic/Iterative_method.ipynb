{
 "cells": [
  {
   "cell_type": "markdown",
   "metadata": {},
   "source": [
    "## Constant from IV-characteristics : <font color = 'sky blue'> $n_e, T_e, T_-, I_{sat+}$ </font>\n",
    "<font size=\"2\">\n",
    "    We use classical Langmuir probe method here to obtain constants listed above. <br><br>\n",
    "    $n_e=\\frac{I(V_p)}{eA} (\\frac{2\\pi m_e}{T_e})^{1/2} $ <br><br>\n",
    "    $I(V_p)$ is probe current at plasma potential, $A$ is probe surface area.<br><br>\n",
    "    $T_e = \\frac{4\\sqrt{2m_e/e}}{3n_eA} \\int_{0}^{-\\infty} I''(V) {|V|}^{3/2} dV$ <br><br>\n",
    "    We can get $I''(V)$ from second derivative and $I_{sat+}$ from most negative probe potential. $T_-$ would be given value. <br><br>\n",
    "    \n",
    "</font>"
   ]
  },
  {
   "cell_type": "code",
   "execution_count": 14,
   "metadata": {},
   "outputs": [],
   "source": [
    "ne  = 1\n",
    "Te = 2\n",
    "Tm = 3\n",
    "Isatp = 4"
   ]
  },
  {
   "cell_type": "markdown",
   "metadata": {},
   "source": [
    "## Iteration method : <font color = 'purple'> </font>\n",
    "<font size = '2'>\n",
    "    Initial value : <font color = 'sky blue'> $\\alpha_{0,0} = 2, r_{sh,0} = 0$ </font><br><br>\n",
    "    Constant value : <font color = 'sky blue'> $n_e, T_e, T_-, I_{sat+}, h_r$ </font><br><br>\n",
    "    We can also define $\\alpha_{s,0}$ by relation between $\\alpha_0$ and $\\alpha_s$<br><br>\n",
    "    Update modified Bohm speed : $u_{B+,k}^* = \\sqrt{\\frac{e T_e}{m_+}}\\sqrt{\\frac{1+\\alpha_{s,k-1}}{1+\\gamma \\alpha_{s,k-1}}}$<br><br>\n",
    "    Update ion density : $n_{+,k} = \\frac{I_{sat+}}{h_r S_{eff,k-1} e u_{B+,k}^*}$ (Bohm flux) <br><br>\n",
    "    Update electronegativity : $\\alpha_{0,k} = \\frac{n_{+,k}}{n_e}-1$ <br><br>\n",
    "    Update $\\alpha_{s,k}$ : $\\alpha_{0,k} = \\alpha_{s,k} exp(-\\frac{1}{2} (\\frac{1+\\alpha_{s,k}}{1+\\gamma \\alpha_{s,k}})(1-\\gamma))$<br><br>\n",
    "    Update positive ion current density : $J_{+,k} = h_r e n_{+,k}u_{B+,k}^*$ <br><br>\n",
    "    Update effective ion collecting area : $S_{eff,k} = 2\\pi s_k l$ where $s_k=r_{sh,k}+a$ 이파트 이상함<br><br> \n",
    "    From this point, all values are re-injected to Modified Bohm speed equation for new iteration. <br><br>\n",
    "    Iteration is stopped when $|\\alpha_{0,k-1}-\\alpha_{0,k}|<0.01\\alpha_{0,k}$ <br><br>\n",
    "    $S_{eff}(V) = 2\\pi l r_{sh}(V) + 2\\pi r_{sh}^2(V)$ <br><br>\n",
    "</font>"
   ]
  },
  {
   "cell_type": "code",
   "execution_count": 25,
   "metadata": {},
   "outputs": [],
   "source": [
    "class iter_method:\n",
    "    def __init__(self,ne,Te,Tm,Isatp):\n",
    "        self.ne = ne\n",
    "        self.Te = Te\n",
    "        self.Tm = Tm\n",
    "        self.Isatp = Isatp"
   ]
  },
  {
   "cell_type": "code",
   "execution_count": 24,
   "metadata": {},
   "outputs": [],
   "source": [
    "sample = iter_method(ne, Te, Tm, Isatp)"
   ]
  },
  {
   "cell_type": "code",
   "execution_count": null,
   "metadata": {},
   "outputs": [],
   "source": []
  }
 ],
 "metadata": {
  "kernelspec": {
   "display_name": "Python 3",
   "language": "python",
   "name": "python3"
  },
  "language_info": {
   "codemirror_mode": {
    "name": "ipython",
    "version": 3
   },
   "file_extension": ".py",
   "mimetype": "text/x-python",
   "name": "python",
   "nbconvert_exporter": "python",
   "pygments_lexer": "ipython3",
   "version": "3.6.9"
  }
 },
 "nbformat": 4,
 "nbformat_minor": 4
}
