{
 "cells": [
  {
   "cell_type": "markdown",
   "metadata": {},
   "source": [
    "## Mach Number Calculation\n",
    "\n",
    "$C_sM_{T_e}$ = $-(1.1716+M_\\parallel)n_e\\frac{dT_e}{dr}$ <br><br>\n",
    "$C_sM_{n_e}$ = $-0.1716T_e\\frac{dn_e}{dr}$ <br><br>\n"
   ]
  },
  {
   "cell_type": "code",
   "execution_count": 17,
   "metadata": {},
   "outputs": [],
   "source": [
    "import pandas as pd\n",
    "import numpy as np\n",
    "from scipy import interpolate\n",
    "import matplotlib.pyplot as plt\n",
    "from scipy.signal import savgol_filter\n",
    "\n",
    "e = 1.6e-19\n",
    "m = 9.1e-31"
   ]
  },
  {
   "cell_type": "code",
   "execution_count": 18,
   "metadata": {},
   "outputs": [
    {
     "data": {
      "text/html": [
       "<div>\n",
       "<style scoped>\n",
       "    .dataframe tbody tr th:only-of-type {\n",
       "        vertical-align: middle;\n",
       "    }\n",
       "\n",
       "    .dataframe tbody tr th {\n",
       "        vertical-align: top;\n",
       "    }\n",
       "\n",
       "    .dataframe thead th {\n",
       "        text-align: right;\n",
       "    }\n",
       "</style>\n",
       "<table border=\"1\" class=\"dataframe\">\n",
       "  <thead>\n",
       "    <tr style=\"text-align: right;\">\n",
       "      <th></th>\n",
       "      <th>Position (mm)</th>\n",
       "      <th>Vp (V)</th>\n",
       "      <th>Vf (V)</th>\n",
       "      <th>Teff (eV)</th>\n",
       "      <th>Ne (m-3)</th>\n",
       "      <th>Ne (cm-3)</th>\n",
       "    </tr>\n",
       "  </thead>\n",
       "  <tbody>\n",
       "    <tr>\n",
       "      <th>0</th>\n",
       "      <td>-12.0</td>\n",
       "      <td>-0.0250</td>\n",
       "      <td>-46.20</td>\n",
       "      <td>6.39</td>\n",
       "      <td>8.150000e+17</td>\n",
       "      <td>8.150000e+11</td>\n",
       "    </tr>\n",
       "    <tr>\n",
       "      <th>1</th>\n",
       "      <td>-10.0</td>\n",
       "      <td>-0.1270</td>\n",
       "      <td>-50.00</td>\n",
       "      <td>6.33</td>\n",
       "      <td>1.270000e+18</td>\n",
       "      <td>1.270000e+12</td>\n",
       "    </tr>\n",
       "    <tr>\n",
       "      <th>2</th>\n",
       "      <td>-8.0</td>\n",
       "      <td>-0.1940</td>\n",
       "      <td>-51.90</td>\n",
       "      <td>5.83</td>\n",
       "      <td>1.630000e+18</td>\n",
       "      <td>1.630000e+12</td>\n",
       "    </tr>\n",
       "    <tr>\n",
       "      <th>3</th>\n",
       "      <td>-6.0</td>\n",
       "      <td>-0.1600</td>\n",
       "      <td>-48.40</td>\n",
       "      <td>5.92</td>\n",
       "      <td>1.800000e+18</td>\n",
       "      <td>1.800000e+12</td>\n",
       "    </tr>\n",
       "    <tr>\n",
       "      <th>4</th>\n",
       "      <td>-4.0</td>\n",
       "      <td>-0.0305</td>\n",
       "      <td>-52.10</td>\n",
       "      <td>6.32</td>\n",
       "      <td>1.790000e+18</td>\n",
       "      <td>1.790000e+12</td>\n",
       "    </tr>\n",
       "    <tr>\n",
       "      <th>...</th>\n",
       "      <td>...</td>\n",
       "      <td>...</td>\n",
       "      <td>...</td>\n",
       "      <td>...</td>\n",
       "      <td>...</td>\n",
       "      <td>...</td>\n",
       "    </tr>\n",
       "    <tr>\n",
       "      <th>70</th>\n",
       "      <td>14.0</td>\n",
       "      <td>4.3300</td>\n",
       "      <td>-12.60</td>\n",
       "      <td>1.58</td>\n",
       "      <td>4.340000e+17</td>\n",
       "      <td>4.340000e+11</td>\n",
       "    </tr>\n",
       "    <tr>\n",
       "      <th>71</th>\n",
       "      <td>16.0</td>\n",
       "      <td>4.3200</td>\n",
       "      <td>-7.32</td>\n",
       "      <td>1.38</td>\n",
       "      <td>3.650000e+17</td>\n",
       "      <td>3.650000e+11</td>\n",
       "    </tr>\n",
       "    <tr>\n",
       "      <th>72</th>\n",
       "      <td>18.0</td>\n",
       "      <td>4.3200</td>\n",
       "      <td>-5.22</td>\n",
       "      <td>1.36</td>\n",
       "      <td>3.090000e+17</td>\n",
       "      <td>3.090000e+11</td>\n",
       "    </tr>\n",
       "    <tr>\n",
       "      <th>73</th>\n",
       "      <td>20.0</td>\n",
       "      <td>4.2900</td>\n",
       "      <td>-3.15</td>\n",
       "      <td>1.33</td>\n",
       "      <td>2.080000e+17</td>\n",
       "      <td>2.080000e+11</td>\n",
       "    </tr>\n",
       "    <tr>\n",
       "      <th>74</th>\n",
       "      <td>23.0</td>\n",
       "      <td>3.8600</td>\n",
       "      <td>-2.93</td>\n",
       "      <td>1.29</td>\n",
       "      <td>1.170000e+17</td>\n",
       "      <td>1.170000e+11</td>\n",
       "    </tr>\n",
       "  </tbody>\n",
       "</table>\n",
       "<p>75 rows × 6 columns</p>\n",
       "</div>"
      ],
      "text/plain": [
       "    Position (mm)  Vp (V)  Vf (V)  Teff (eV)      Ne (m-3)     Ne (cm-3)\n",
       "0           -12.0 -0.0250  -46.20       6.39  8.150000e+17  8.150000e+11\n",
       "1           -10.0 -0.1270  -50.00       6.33  1.270000e+18  1.270000e+12\n",
       "2            -8.0 -0.1940  -51.90       5.83  1.630000e+18  1.630000e+12\n",
       "3            -6.0 -0.1600  -48.40       5.92  1.800000e+18  1.800000e+12\n",
       "4            -4.0 -0.0305  -52.10       6.32  1.790000e+18  1.790000e+12\n",
       "..            ...     ...     ...        ...           ...           ...\n",
       "70           14.0  4.3300  -12.60       1.58  4.340000e+17  4.340000e+11\n",
       "71           16.0  4.3200   -7.32       1.38  3.650000e+17  3.650000e+11\n",
       "72           18.0  4.3200   -5.22       1.36  3.090000e+17  3.090000e+11\n",
       "73           20.0  4.2900   -3.15       1.33  2.080000e+17  2.080000e+11\n",
       "74           23.0  3.8600   -2.93       1.29  1.170000e+17  1.170000e+11\n",
       "\n",
       "[75 rows x 6 columns]"
      ]
     },
     "execution_count": 18,
     "metadata": {},
     "output_type": "execute_result"
    }
   ],
   "source": [
    "data = pd.read_excel('C:/Users/GUNU/Dropbox/PRL/Python_Projects/IV_characteristic/Data summary_IHC_BF3.xlsx', sheet_name='Radial',header=0)\n",
    "data = data.head(75)\n",
    "del data['Condition']\n",
    "data"
   ]
  },
  {
   "cell_type": "code",
   "execution_count": 19,
   "metadata": {},
   "outputs": [],
   "source": [
    "ne_B_F = np.array(data[0:18]['Ne (m-3)'])\n",
    "ne_BF2_F = np.array(data[19:37]['Ne (m-3)'])\n",
    "ne_B_R = np.array(data[38:56]['Ne (m-3)'])\n",
    "ne_BF2_R = np.array(data[57:75]['Ne (m-3)'])\n",
    "\n",
    "Te_B_F = np.array(data[0:18]['Teff (eV)'])\n",
    "Te_BF2_F = np.array(data[19:37]['Teff (eV)'])\n",
    "Te_B_R = np.array(data[38:56]['Teff (eV)'])\n",
    "Te_BF2_R = np.array(data[57:75]['Teff (eV)'])\n",
    "\n",
    "position = np.array([-12,-10,-8,-6,-4,-2,0,2,4,6,8,10,12,14,16,18,20,23])/1000"
   ]
  },
  {
   "cell_type": "code",
   "execution_count": 20,
   "metadata": {},
   "outputs": [],
   "source": [
    "x = np.arange(-12,23,0.1)/1000"
   ]
  },
  {
   "cell_type": "code",
   "execution_count": 60,
   "metadata": {},
   "outputs": [],
   "source": [
    "ne_B_F_interpol = interpolate.CubicSpline(position, ne_B_F)\n",
    "ne_B_F_interpol_deri = ne_B_F_interpol.derivative()\n",
    "ne_BF2_F_interpol = interpolate.CubicSpline(position, ne_BF2_F)\n",
    "ne_BF2_F_interpol_deri = ne_BF2_F_interpol.derivative()\n",
    "ne_B_R_interpol = interpolate.CubicSpline(position, ne_B_R)\n",
    "ne_B_R_interpol_deri = ne_B_R_interpol.derivative()\n",
    "ne_BF2_R_interpol = interpolate.CubicSpline(position, ne_BF2_R)\n",
    "ne_BF2_R_interpol_deri = ne_BF2_R_interpol.derivative()\n",
    "\n",
    "Te_B_F_interpol = interpolate.CubicSpline(position, Te_B_F)\n",
    "Te_B_F_interpol_deri = Te_B_F_interpol.derivative()\n",
    "Te_B_F_smooth = savgol_filter(Te_B_F, 7, 3)\n",
    "Te_BF2_F_interpol = interpolate.CubicSpline(position, Te_BF2_F)\n",
    "Te_BF2_F_interpol_deri = Te_BF2_F_interpol.derivative()\n",
    "Te_B_R_interpol = interpolate.CubicSpline(position, Te_B_R)\n",
    "Te_B_R_interpol_deri = Te_B_R_interpol.derivative()\n",
    "Te_BF2_R_interpol = interpolate.CubicSpline(position, Te_BF2_R)\n",
    "Te_BF2_R_interpol_deri = Te_BF2_R_interpol.derivative()"
   ]
  },
  {
   "cell_type": "code",
   "execution_count": 25,
   "metadata": {},
   "outputs": [
    {
     "data": {
      "image/png": "[encoded data removed]",
      "text/plain": [
       "<Figure size 468x288 with 1 Axes>"
      ]
     },
     "metadata": {
      "needs_background": "light"
     },
     "output_type": "display_data"
    }
   ],
   "source": [
    "fig, ax = plt.subplots(figsize=(6.5, 4))\n",
    "ax.plot(position, ne_B_F, 'o', label='raw')\n",
    "ax.plot(position, ne_B_F_interpol(position),label=\"ne_B_F\")\n",
    "#ax.plot(position, ne_B_F_interpol(position), color='orange')\n",
    "ax.legend(loc='lower left', ncol=2)\n",
    "plt.show()"
   ]
  },
  {
   "cell_type": "code",
   "execution_count": 61,
   "metadata": {},
   "outputs": [
    {
     "data": {
      "image/png": "[encoded data removed]",
      "text/plain": [
       "<Figure size 468x288 with 1 Axes>"
      ]
     },
     "metadata": {
      "needs_background": "light"
     },
     "output_type": "display_data"
    }
   ],
   "source": [
    "fig, ax = plt.subplots(figsize=(6.5, 4))\n",
    "ax.plot(position, Te_B_F, 'o', label='raw')\n",
    "ax.plot(position, Te_B_F_interpol(position),label=\"Te_B_F\")\n",
    "#ax.plot(position, ne_B_F_interpol(position), color='orange')\n",
    "ax.legend(loc='lower left', ncol=2)\n",
    "plt.show()"
   ]
  },
  {
   "cell_type": "code",
   "execution_count": 62,
   "metadata": {},
   "outputs": [
    {
     "data": {
      "image/png": "[encoded data removed]",
      "text/plain": [
       "<Figure size 468x288 with 1 Axes>"
      ]
     },
     "metadata": {
      "needs_background": "light"
     },
     "output_type": "display_data"
    }
   ],
   "source": [
    "fig, ax = plt.subplots(figsize=(6.5, 4))\n",
    "ax.plot(position, Te_B_F, 'o', label='raw')\n",
    "ax.plot(position, Te_B_F_smooth,label=\"Te_B_F\")\n",
    "ax.legend(loc='lower left', ncol=2)\n",
    "plt.show()"
   ]
  },
  {
   "cell_type": "code",
   "execution_count": 38,
   "metadata": {},
   "outputs": [
    {
     "data": {
      "image/png": "[encoded data removed]",
      "text/plain": [
       "<Figure size 468x288 with 1 Axes>"
      ]
     },
     "metadata": {
      "needs_background": "light"
     },
     "output_type": "display_data"
    }
   ],
   "source": [
    "fig, ax = plt.subplots(figsize=(6.5, 4))\n",
    "#M_B_F = -0.1716*Te_B_F_interpol(position)*ne_B_F_interpol_deri(position)*e\n",
    "#M_B_F = -0.1716*5*ne_B_F_interpol_deri(position)*e\n",
    "M_B_F = -0.1716*Te_B_F_smooth*ne_B_F_interpol_deri(position)*e\n",
    "ax.plot(position, M_B_F)\n",
    "plt.show()"
   ]
  },
  {
   "cell_type": "code",
   "execution_count": 45,
   "metadata": {},
   "outputs": [
    {
     "name": "stdout",
     "output_type": "stream",
     "text": [
      "[6.39  6.33  5.83  5.92  6.32  6.2   6.62  6.36  7.31  6.72  6.43  5.57\n",
      " 4.09  1.11  0.912 0.909 0.903 0.909]\n",
      "[6.44595238 6.14261905 5.9997619  5.99571429 6.13952381 6.26666667\n",
      " 6.53857143 6.73142857 6.91714286 6.85       6.57190476 5.19790476\n",
      " 3.59419048 2.02633333 0.97709524 0.72516667 0.80130952 0.99335714]\n"
     ]
    }
   ],
   "source": [
    "print(Te_B_F_interpol(position))\n",
    "print(Te_B_F_smooth)"
   ]
  },
  {
   "cell_type": "code",
   "execution_count": 23,
   "metadata": {},
   "outputs": [],
   "source": [
    "import numpy as np\n",
    "x = np.linspace(0,2*np.pi,100)\n",
    "y = np.sin(x) + np.random.random(100) * 0.2\n",
    "\n",
    "from scipy.signal import savgol_filter\n",
    "yhat = savgol_filter(y, 51, 3) # window size 51, polynomial order 3"
   ]
  },
  {
   "cell_type": "code",
   "execution_count": 49,
   "metadata": {},
   "outputs": [
    {
     "data": {
      "text/plain": [
       "\u001b[1;31mInit signature:\u001b[0m \u001b[0minterpolate\u001b[0m\u001b[1;33m.\u001b[0m\u001b[0mBSpline\u001b[0m\u001b[1;33m(\u001b[0m\u001b[0mt\u001b[0m\u001b[1;33m,\u001b[0m \u001b[0mc\u001b[0m\u001b[1;33m,\u001b[0m \u001b[0mk\u001b[0m\u001b[1;33m,\u001b[0m \u001b[0mextrapolate\u001b[0m\u001b[1;33m=\u001b[0m\u001b[1;32mTrue\u001b[0m\u001b[1;33m,\u001b[0m \u001b[0maxis\u001b[0m\u001b[1;33m=\u001b[0m\u001b[1;36m0\u001b[0m\u001b[1;33m)\u001b[0m\u001b[1;33m\u001b[0m\u001b[1;33m\u001b[0m\u001b[0m\n",
       "\u001b[1;31mDocstring:\u001b[0m     \n",
       "Univariate spline in the B-spline basis.\n",
       "\n",
       ".. math::\n",
       "\n",
       "    S(x) = \\sum_{j=0}^{n-1} c_j  B_{j, k; t}(x)\n",
       "\n",
       "where :math:`B_{j, k; t}` are B-spline basis functions of degree `k`\n",
       "and knots `t`.\n",
       "\n",
       "Parameters\n",
       "----------\n",
       "t : ndarray, shape (n+k+1,)\n",
       "    knots\n",
       "c : ndarray, shape (>=n, ...)\n",
       "    spline coefficients\n",
       "k : int\n",
       "    B-spline order\n",
       "extrapolate : bool or 'periodic', optional\n",
       "    whether to extrapolate beyond the base interval, ``t[k] .. t[n]``,\n",
       "    or to return nans.\n",
       "    If True, extrapolates the first and last polynomial pieces of b-spline\n",
       "    functions active on the base interval.\n",
       "    If 'periodic', periodic extrapolation is used.\n",
       "    Default is True.\n",
       "axis : int, optional\n",
       "    Interpolation axis. Default is zero.\n",
       "\n",
       "Attributes\n",
       "----------\n",
       "t : ndarray\n",
       "    knot vector\n",
       "c : ndarray\n",
       "    spline coefficients\n",
       "k : int\n",
       "    spline degree\n",
       "extrapolate : bool\n",
       "    If True, extrapolates the first and last polynomial pieces of b-spline\n",
       "    functions active on the base interval.\n",
       "axis : int\n",
       "    Interpolation axis.\n",
       "tck : tuple\n",
       "    A read-only equivalent of ``(self.t, self.c, self.k)``\n",
       "\n",
       "Methods\n",
       "-------\n",
       "__call__\n",
       "basis_element\n",
       "derivative\n",
       "antiderivative\n",
       "integrate\n",
       "construct_fast\n",
       "\n",
       "Notes\n",
       "-----\n",
       "B-spline basis elements are defined via\n",
       "\n",
       ".. math::\n",
       "\n",
       "    B_{i, 0}(x) = 1, \\textrm{if $t_i \\le x < t_{i+1}$, otherwise $0$,}\n",
       "\n",
       "    B_{i, k}(x) = \\frac{x - t_i}{t_{i+k} - t_i} B_{i, k-1}(x)\n",
       "             + \\frac{t_{i+k+1} - x}{t_{i+k+1} - t_{i+1}} B_{i+1, k-1}(x)\n",
       "\n",
       "**Implementation details**\n",
       "\n",
       "- At least ``k+1`` coefficients are required for a spline of degree `k`,\n",
       "  so that ``n >= k+1``. Additional coefficients, ``c[j]`` with\n",
       "  ``j > n``, are ignored.\n",
       "\n",
       "- B-spline basis elements of degree `k` form a partition of unity on the\n",
       "  *base interval*, ``t[k] <= x <= t[n]``.\n",
       "\n",
       "\n",
       "Examples\n",
       "--------\n",
       "\n",
       "Translating the recursive definition of B-splines into Python code, we have:\n",
       "\n",
       ">>> def B(x, k, i, t):\n",
       "...    if k == 0:\n",
       "...       return 1.0 if t[i] <= x < t[i+1] else 0.0\n",
       "...    if t[i+k] == t[i]:\n",
       "...       c1 = 0.0\n",
       "...    else:\n",
       "...       c1 = (x - t[i])/(t[i+k] - t[i]) * B(x, k-1, i, t)\n",
       "...    if t[i+k+1] == t[i+1]:\n",
       "...       c2 = 0.0\n",
       "...    else:\n",
       "...       c2 = (t[i+k+1] - x)/(t[i+k+1] - t[i+1]) * B(x, k-1, i+1, t)\n",
       "...    return c1 + c2\n",
       "\n",
       ">>> def bspline(x, t, c, k):\n",
       "...    n = len(t) - k - 1\n",
       "...    assert (n >= k+1) and (len(c) >= n)\n",
       "...    return sum(c[i] * B(x, k, i, t) for i in range(n))\n",
       "\n",
       "Note that this is an inefficient (if straightforward) way to\n",
       "evaluate B-splines --- this spline class does it in an equivalent,\n",
       "but much more efficient way.\n",
       "\n",
       "Here we construct a quadratic spline function on the base interval\n",
       "``2 <= x <= 4`` and compare with the naive way of evaluating the spline:\n",
       "\n",
       ">>> from scipy.interpolate import BSpline\n",
       ">>> k = 2\n",
       ">>> t = [0, 1, 2, 3, 4, 5, 6]\n",
       ">>> c = [-1, 2, 0, -1]\n",
       ">>> spl = BSpline(t, c, k)\n",
       ">>> spl(2.5)\n",
       "array(1.375)\n",
       ">>> bspline(2.5, t, c, k)\n",
       "1.375\n",
       "\n",
       "Note that outside of the base interval results differ. This is because\n",
       "`BSpline` extrapolates the first and last polynomial pieces of b-spline\n",
       "functions active on the base interval.\n",
       "\n",
       ">>> import matplotlib.pyplot as plt\n",
       ">>> fig, ax = plt.subplots()\n",
       ">>> xx = np.linspace(1.5, 4.5, 50)\n",
       ">>> ax.plot(xx, [bspline(x, t, c ,k) for x in xx], 'r-', lw=3, label='naive')\n",
       ">>> ax.plot(xx, spl(xx), 'b-', lw=4, alpha=0.7, label='BSpline')\n",
       ">>> ax.grid(True)\n",
       ">>> ax.legend(loc='best')\n",
       ">>> plt.show()\n",
       "\n",
       "\n",
       "References\n",
       "----------\n",
       ".. [1] Tom Lyche and Knut Morken, Spline methods,\n",
       "    http://www.uio.no/studier/emner/matnat/ifi/INF-MAT5340/v05/undervisningsmateriale/\n",
       ".. [2] Carl de Boor, A practical guide to splines, Springer, 2001.\n",
       "\u001b[1;31mFile:\u001b[0m           c:\\users\\gunu\\anaconda3\\envs\\py_36\\lib\\site-packages\\scipy\\interpolate\\_bsplines.py\n",
       "\u001b[1;31mType:\u001b[0m           type\n",
       "\u001b[1;31mSubclasses:\u001b[0m     \n"
      ]
     },
     "metadata": {},
     "output_type": "display_data"
    }
   ],
   "source": [
    "interpolate.BSpline?"
   ]
  },
  {
   "cell_type": "code",
   "execution_count": null,
   "metadata": {},
   "outputs": [],
   "source": []
  }
 ],
 "metadata": {
  "kernelspec": {
   "display_name": "Python 3",
   "language": "python",
   "name": "python3"
  },
  "language_info": {
   "codemirror_mode": {
    "name": "ipython",
    "version": 3
   },
   "file_extension": ".py",
   "mimetype": "text/x-python",
   "name": "python",
   "nbconvert_exporter": "python",
   "pygments_lexer": "ipython3",
   "version": "3.6.9"
  }
 },
 "nbformat": 4,
 "nbformat_minor": 4
}
