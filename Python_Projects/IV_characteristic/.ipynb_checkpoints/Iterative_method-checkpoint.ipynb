{
 "cells": [
  {
   "cell_type": "markdown",
   "metadata": {},
   "source": [
    "## Constant from IV-characteristics : <font color = 'sky blue'> $n_e, T_e, T_-, I_{sat+}$ </font>\n",
    "<font size=\"2\">\n",
    "    We use classical Langmuir probe method here to obtain constants listed above. <br><br>\n",
    "    $n_e=\\frac{I(V_p)}{eA} (\\frac{2\\pi m_e}{T_e})^{1/2} $ <br><br>\n",
    "    $I(V_p)$ is probe current at plasma potential, $A$ is probe surface area.<br><br>\n",
    "    $T_e = \\frac{4\\sqrt{2m_e/e}}{3n_eA} \\int_{0}^{-\\infty} I''(V) {|V|}^{3/2} dV$ <br><br>\n",
    "    We can get $I''(V)$ from second derivative and $I_{sat+}$ from most negative probe potential. $T_-$ would be given value. <br><br>\n",
    "    \n",
    "</font>"
   ]
  },
  {
   "cell_type": "code",
   "execution_count": 22,
   "metadata": {},
   "outputs": [],
   "source": [
    "import numpy as np\n",
    "from scipy.optimize import fsolve\n",
    "\n",
    "ne  = 1\n",
    "Te = 20\n",
    "Tm = 1\n",
    "Isatp = 4\n",
    "init_alpha_0 = 2\n",
    "init_r_sh = 0"
   ]
  },
  {
   "cell_type": "markdown",
   "metadata": {},
   "source": [
    "## Iteration method : <font color = 'purple'> </font>\n",
    "<font size = '2'>\n",
    "    Initial value : <font color = 'sky blue'> $\\alpha_{0,0} = 2, r_{sh,0} = 0$ </font><br><br>\n",
    "    Constant value : <font color = 'sky blue'> $n_e, T_e, T_-, I_{sat+}, h_r$ </font><br><br>\n",
    "    We can also define $\\alpha_{s,0}$ by relation between $\\alpha_0$ and $\\alpha_s$<br><br>\n",
    "    Update modified Bohm speed : $u_{B+,k}^* = \\sqrt{\\frac{e T_e}{m_+}}\\sqrt{\\frac{1+\\alpha_{s,k-1}}{1+\\gamma \\alpha_{s,k-1}}}$<br><br>\n",
    "    Update ion density : $n_{+,k} = \\frac{I_{sat+}}{h_r S_{eff,k-1}e u_{B+,k}^*}$ (Bohm flux) <br><br>\n",
    "    Update electronegativity : $\\alpha_{0,k} = \\frac{n_{+,k}}{n_e}-1$ <br><br>\n",
    "    Update $\\alpha_{s,k}$ : $\\alpha_{0,k} = \\alpha_{s,k} exp(-\\frac{1}{2} (\\frac{1+\\alpha_{s,k}}{1+\\gamma \\alpha_{s,k}})(1-\\gamma))$<br><br>\n",
    "    Update positive ion current density : $J_{+,k} = h_r e n_{+,k}u_{B+,k}^*$ <br><br>\n",
    "    Update $r_{sh}$ : $\\frac{du}{dr} = \\frac{eE}{m_+u(r)}, \\frac{dE}{dr} = \\frac{RJ_0}{r\\epsilon_0u(r)}-\\frac{E}{r}$ <br><br>\n",
    "    Update effective ion collecting area : $S_{eff,k} = 2\\pi s_k l$ where $s_k = r_{sh,k} + a $<br><br> \n",
    "    From this point, all values are re-injected to Modified Bohm speed equation for new iteration. <br><br>\n",
    "    Iteration is stopped when $|\\alpha_{0,k-1}-\\alpha_{0,k}|<0.01\\alpha_{0,k}$ <br><br>\n",
    "    $S_{eff}(V) = 2\\pi l r_{sh}(V) + 2\\pi r_{sh}^2(V)$ <br><br>\n",
    "</font>"
   ]
  },
  {
   "cell_type": "code",
   "execution_count": 23,
   "metadata": {},
   "outputs": [],
   "source": [
    "class iter_method:\n",
    "    def __init__(self, ne, Te, Tm, Isatp):\n",
    "        self.ne = ne\n",
    "        self.Te = Te\n",
    "        self.Tm = Tm\n",
    "        self.Isatp = Isatp\n",
    "        self.gamma = Te/Tm\n",
    "        \n",
    "    def alpha_search(self, alpha_0):\n",
    "        func = lambda alpha_s : alpha_0 - alpha_s*np.exp(-0.5*((1+alpha_s)/(1+self.gamma*alpha_s))*(1-self.gamma))\n",
    "        alpha_s_initial_guess = [1e-5,1e-4,1e-3,1e-2,1e-1,1,1e1,1e2]\n",
    "        self.alpha_s = np.unique(np.round(fsolve(func, alpha_s_initial_guess),12))\n",
    "        \n",
    "    def iteration(self):\n",
    "        self.alpha_0k = self.alpha_0\n",
    "        iter_count = 0\n",
    "        while(abs(self.alpha_0 - self.alpha_0k) < 0.01*self.alpha_0):\n",
    "            iter_count += 1\n",
    "            \n",
    "            pass"
   ]
  },
  {
   "cell_type": "code",
   "execution_count": 24,
   "metadata": {},
   "outputs": [],
   "source": [
    "sample = iter_method(ne, Te, Tm, Isatp)"
   ]
  },
  {
   "cell_type": "code",
   "execution_count": 25,
   "metadata": {},
   "outputs": [
    {
     "name": "stdout",
     "output_type": "stream",
     "text": [
      "[1.53907661e-04 1.90519245e-01 6.56932481e-01]\n"
     ]
    }
   ],
   "source": [
    "sample.alpha_search(init_alpha_0)\n",
    "print(sample.alpha_s)"
   ]
  },
  {
   "cell_type": "code",
   "execution_count": 18,
   "metadata": {},
   "outputs": [
    {
     "data": {
      "image/png": "[encoded data removed]",
      "text/plain": [
       "<Figure size 432x288 with 1 Axes>"
      ]
     },
     "metadata": {
      "needs_background": "light"
     },
     "output_type": "display_data"
    },
    {
     "name": "stdout",
     "output_type": "stream",
     "text": [
      "The solution is alpha_s = : [1.53907661e-04 1.90519245e-01 6.56932481e-01]\n"
     ]
    }
   ],
   "source": [
    "import numpy as np\n",
    "import matplotlib.pyplot as plt\n",
    "from scipy.optimize import fsolve\n",
    "\n",
    "# Define the expression whose roots we want to find\n",
    "\n",
    "alpha_0 = 2\n",
    "gamma = 20\n",
    "\n",
    "def func(alpha_s):\n",
    "    return alpha_0 - alpha_s*np.exp(-0.5*((1+alpha_s)/(1+gamma*alpha_s))*(1-gamma))\n",
    "\n",
    "# Use the numerical solver to find the roots\n",
    "\n",
    "alpha_s_initial_guess = [1e-5,1e-4,1e-3,1e-2,1e-1,1,1e1,1e2]\n",
    "alpha_s_solution = np.unique(np.round(fsolve(func, alpha_s_initial_guess),12))\n",
    "\n",
    "print (\"The solution is alpha_s = :\" ,alpha_s_solution)"
   ]
  },
  {
   "cell_type": "code",
   "execution_count": 47,
   "metadata": {},
   "outputs": [
    {
     "name": "stdout",
     "output_type": "stream",
     "text": [
      "The roots on the interval [0.000100, 100.000000] are:\n",
      "1.03452\n",
      "\n",
      "Done\n"
     ]
    }
   ],
   "source": [
    "#Bisection Demo (slow)\n",
    "import math\n",
    "\n",
    "def rootsearch(f,a,b,dx):\n",
    "    x1 = a; f1 = f(a)\n",
    "    x2 = a + dx; f2 = f(x2)\n",
    "    while f1*f2 > 0.0:\n",
    "        if x1 >= b:\n",
    "            return None,None\n",
    "        x1 = x2; f1 = f2\n",
    "        x2 = x1 + dx; f2 = f(x2)\n",
    "    return x1,x2\n",
    "\n",
    "def bisect(f,x1,x2,switch=0,epsilon=1.0e-8):\n",
    "    f1 = f(x1)\n",
    "    if f1 == 0.0:\n",
    "        return x1\n",
    "    f2 = f(x2)\n",
    "    if f2 == 0.0:\n",
    "        return x2\n",
    "    if f1*f2 > 0.0:\n",
    "        print('Root is not bracketed')\n",
    "        return None\n",
    "    n = int(math.ceil(math.log(abs(x2 - x1)/epsilon)/math.log(2.0)))\n",
    "    for i in range(n):\n",
    "        x3 = 0.5*(x1 + x2); f3 = f(x3)\n",
    "        if (switch == 1) and (abs(f3) >abs(f1)) and (abs(f3) > abs(f2)):\n",
    "            return None\n",
    "        if f3 == 0.0:\n",
    "            return x3\n",
    "        if f2*f3 < 0.0:\n",
    "            x1 = x3\n",
    "            f1 = f3\n",
    "        else:\n",
    "            x2 =x3\n",
    "            f2 = f3\n",
    "    return (x1 + x2)/2.0\n",
    "\n",
    "def roots(f, a, b, eps=1e-5):\n",
    "    print ('The roots on the interval [%f, %f] are:' % (a,b))\n",
    "    while 1:\n",
    "        x1,x2 = rootsearch(f,a,b,eps)\n",
    "        if x1 != None:\n",
    "            a = x2\n",
    "            root = bisect(f,x1,x2,1)\n",
    "            if root != None:\n",
    "                pass\n",
    "                print (round(root,-int(math.log(eps, 10))))\n",
    "        else:\n",
    "            print ('\\nDone')\n",
    "            break\n",
    "alpha_0 = 2\n",
    "gamma = 5 \n",
    "f=lambda alpha_s:alpha_0 - alpha_s*np.exp(-0.5*((1+alpha_s)/(1+gamma*alpha_s))*(1-gamma))\n",
    "roots(f, 1e-4, 1e2)"
   ]
  },
  {
   "cell_type": "code",
   "execution_count": null,
   "metadata": {},
   "outputs": [],
   "source": []
  }
 ],
 "metadata": {
  "kernelspec": {
   "display_name": "Python 3",
   "language": "python",
   "name": "python3"
  },
  "language_info": {
   "codemirror_mode": {
    "name": "ipython",
    "version": 3
   },
   "file_extension": ".py",
   "mimetype": "text/x-python",
   "name": "python",
   "nbconvert_exporter": "python",
   "pygments_lexer": "ipython3",
   "version": "3.6.9"
  }
 },
 "nbformat": 4,
 "nbformat_minor": 4
}
