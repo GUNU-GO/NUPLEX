{
 "cells": [
  {
   "cell_type": "code",
   "execution_count": 64,
   "metadata": {},
   "outputs": [],
   "source": [
    "Te = 4\n",
    "Ti = 1\n",
    "tau_eq = 1\n",
    "\n",
    "from scipy.integrate import odeint\n",
    "import numpy as np\n",
    "import matplotlib.pyplot as plt"
   ]
  },
  {
   "cell_type": "code",
   "execution_count": 65,
   "metadata": {},
   "outputs": [
    {
     "data": {
      "image/png": "[encoded data removed]",
      "text/plain": [
       "<Figure size 360x360 with 1 Axes>"
      ]
     },
     "metadata": {
      "needs_background": "light"
     },
     "output_type": "display_data"
    }
   ],
   "source": [
    "def model(z,t):\n",
    "    dTedt = 1*(z[1]-z[0])/tau_eq\n",
    "    dTidt = (z[0]-z[1])/tau_eq\n",
    "\n",
    "    return [dTedt, dTidt]\n",
    "\n",
    "z0 = [Te,Ti]\n",
    "t = np.linspace(0,5)\n",
    "z = odeint(model,z0,t)\n",
    "\n",
    "# plot results\n",
    "plt.figure(figsize=(5,5))\n",
    "#plt.plot(t,z[:,0],'b-',label=r'$\\frac{d{T_e}}{dt}= \\frac{T_e-T_i}{\\tau_{eq}}$')\n",
    "#plt.plot(t,z[:,1],'r--',label=r'$\\frac{d{T_i}}{dt}= \\frac{n_i}{n_e} \\frac{T_i-T_e}{\\tau_{eq}}$')\n",
    "plt.plot(t,z[:,0],'b-',label=r'$T_e$')\n",
    "plt.plot(t,z[:,1],'r--',label=r'$T_i$')\n",
    "\n",
    "plt.ylabel('Temperature')\n",
    "plt.xlabel('Time')\n",
    "plt.legend(loc='best',prop={'size': 12})\n",
    "plt.savefig('Te vs Ti')\n",
    "plt.show()"
   ]
  },
  {
   "cell_type": "code",
   "execution_count": 92,
   "metadata": {},
   "outputs": [
    {
     "data": {
      "text/plain": [
       "array([190. , 192.1, 194.2, 196.3, 198.4, 200.5, 202.6, 204.7, 206.8,\n",
       "       208.9, 211. , 213.1, 215.2, 217.3, 219.4, 221.5, 223.6, 225.7,\n",
       "       227.8, 229.9, 232. , 234.1, 236.2, 238.3, 240.4, 242.5, 244.6,\n",
       "       246.7, 248.8])"
      ]
     },
     "execution_count": 92,
     "metadata": {},
     "output_type": "execute_result"
    }
   ],
   "source": [
    "l = np.arange(190,250,2.1)\n",
    "l"
   ]
  },
  {
   "cell_type": "code",
   "execution_count": 93,
   "metadata": {},
   "outputs": [
    {
     "data": {
      "text/plain": [
       "799.5478967092163"
      ]
     },
     "execution_count": 93,
     "metadata": {},
     "output_type": "execute_result"
    }
   ],
   "source": [
    "sum(l)*2*np.pi*20*1e-3"
   ]
  },
  {
   "cell_type": "code",
   "execution_count": null,
   "metadata": {},
   "outputs": [],
   "source": []
  }
 ],
 "metadata": {
  "kernelspec": {
   "display_name": "Python 3",
   "language": "python",
   "name": "python3"
  },
  "language_info": {
   "codemirror_mode": {
    "name": "ipython",
    "version": 3
   },
   "file_extension": ".py",
   "mimetype": "text/x-python",
   "name": "python",
   "nbconvert_exporter": "python",
   "pygments_lexer": "ipython3",
   "version": "3.6.10"
  }
 },
 "nbformat": 4,
 "nbformat_minor": 4
}
