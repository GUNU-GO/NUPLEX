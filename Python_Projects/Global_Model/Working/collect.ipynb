{
 "cells": [
  {
   "cell_type": "code",
   "execution_count": null,
   "metadata": {},
   "outputs": [],
   "source": [
    "import pandas as pd\n",
    "\n",
    "# data는 [[Te],[nH],[nHm], .... ] 형식으로 들어옴\n",
    "# [Te, ne, nH, nH_2s, nH2_v0, nH2_v1, nH2_v2, nH2_v3, nH2_v4, nH2_v5, nH2_v6, nH2_v7, nH2_v8, nH2_v9, nHp, nH2p, nH3p, nHm]\n",
    "# 데이터 받아서 뭐할건지 좀 생각해봐야함\n",
    "\n",
    "def data_process(self):\n",
    "        data = np.vstack([self.H,self.Hp,self.H2,self.H2p,self.H3p,self.ne,self.T]).T\n",
    "        data = pd.DataFrame(data, index = self.t_long*1e6)\n",
    "        data.columns= ['H','H+','H2','H2+','H3+','ne','Te']\n",
    "        data.index.name='Time[us]'\n",
    "        #data.to_csv('Result.csv')\n",
    "        idx = []\n",
    "        for i in range(self.iteration_number+1):\n",
    "            idx.append(int(self.period/self.time_resolution*(i+1)-1))\n",
    "        Hp_frac = self.Hp[-1]/self.ne[-1]\n",
    "        H2p_frac = self.H2p[-1]/self.ne[-1]\n",
    "        H3p_frac = self.H3p[-1]/self.ne[-1]\n",
    "        self.frac_data = [Hp_frac, H2p_frac, H3p_frac,self.T[-1],self.ne[-1]]\n",
    "        #print('{},{},{},{},{}'.format(Hp_frac,H2p_frac,H3p_frac,self.T[-1],self.ne[-1]*1e-12))\n",
    "        \n",
    "        return data.iloc[idx[-1]], data.iloc[idx], self.frac_data"
   ]
  }
 ],
 "metadata": {
  "kernelspec": {
   "display_name": "Python 3",
   "language": "python",
   "name": "python3"
  },
  "language_info": {
   "codemirror_mode": {
    "name": "ipython",
    "version": 3
   },
   "file_extension": ".py",
   "mimetype": "text/x-python",
   "name": "python",
   "nbconvert_exporter": "python",
   "pygments_lexer": "ipython3",
   "version": "3.6.10"
  }
 },
 "nbformat": 4,
 "nbformat_minor": 4
}
