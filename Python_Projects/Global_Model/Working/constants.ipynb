{
 "cells": [
  {
   "cell_type": "code",
   "execution_count": 2,
   "metadata": {},
   "outputs": [],
   "source": [
    "import numpy as np\n",
    "\n",
    "kB = 1.38e-23 #[J/K] [m2 kg K-1 s-2] Boltzmann constant\n",
    "e = 1.6e-19 #[C] electronic charge\n",
    "M = 1.67e-27 #[kg] mass of H atom\n",
    "m = 9.1e-31 #[kg] mass of electorn\n",
    "ro = 5 #[cm] radius of chamber\n",
    "l = 100 #[cm] chamber length\n",
    "Tg = 300 #[K] room temperature\n",
    "sigma_i = 5e-15 #[cm2]\n",
    "g = 0.1 #Recombination Factor\n",
    "\n",
    "V = np.pi*ro**2*l #[cm^3] discharge volume\n",
    "A = 2*np.pi*ro*l+2*np.pi*ro**2 #[cm^2] loss area\n",
    "v0 = 100*(8*Tg*kB/(M*np.pi))**0.5 #[cm/s] mean velocity of H atom\n",
    "LAMBDAeff = ((2.405/ro)**2+(np.pi/l)**2)**-0.5 #[cm]\n",
    "D_Kn = v0 * LAMBDAeff/3 #[cm2/s]\n",
    "Deff = D_Kn\n",
    "T1 = LAMBDAeff**2/Deff #[s]"
   ]
  }
 ],
 "metadata": {
  "kernelspec": {
   "display_name": "Python 3",
   "language": "python",
   "name": "python3"
  },
  "language_info": {
   "codemirror_mode": {
    "name": "ipython",
    "version": 3
   },
   "file_extension": ".py",
   "mimetype": "text/x-python",
   "name": "python",
   "nbconvert_exporter": "python",
   "pygments_lexer": "ipython3",
   "version": "3.6.10"
  }
 },
 "nbformat": 4,
 "nbformat_minor": 4
}
