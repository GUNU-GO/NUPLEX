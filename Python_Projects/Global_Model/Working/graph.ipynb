{
 "cells": [
  {
   "cell_type": "code",
   "execution_count": 4,
   "metadata": {},
   "outputs": [],
   "source": [
    "import matplotlib.pyplot as plt\n",
    "import numpy as np\n",
    "\n",
    "# data는 [[Te],[nH],[nHm], .... ] 형식으로 들어옴\n",
    "# [Te, ne, nH, nH_2s, nH2_v0, nH2_v1, nH2_v2, nH2_v3, nH2_v4, nH2_v5, nH2_v6, nH2_v7, nH2_v8, nH2_v9, nHp, nH2p, nH3p, nHm]\n",
    "# exp_condition은 [p, input_power, duty, period, time_resolution] 과 같은 list 형식으로 들어올거임\n",
    "path = 'model_result/'\n",
    "\n",
    "def plot(data, input_species, exp_condition, file_save = False): #species 는 'Te,ne,nH' 이런식으로 들어올거임\n",
    "    file_name = ''\n",
    "    input_species = input_species.replace(' ','').split(',')\n",
    "    p, input_power, duty, period, time_resolution = exp_condition\n",
    "    species_list = 'Te, ne, nH, nH_2s, nH2_v0, nH2_v1, nH2_v2, nH2_v3, nH2_v4, nH2_v5, nH2_v6, nH2_v7, nH2_v8, nH2_v9, nHp, nH2p, nH3p, nHm'.replace(' ','').split(',')\n",
    "    species_dict = dict(zip(species_list, data))\n",
    "    time_interval = np.linspace(0, period, int(period/time_resolution))\n",
    "    if 'Te' in input_species:\n",
    "        ylabel = 'Temperature$(eV)$'\n",
    "    else:\n",
    "        ylabel = 'Density$(m^{-3})$'\n",
    "        \n",
    "    plt.figure(figsize=(8,8))\n",
    "    for species in input_species:\n",
    "        plt.plot(time_interval,species_dict[species])\n",
    "        plt.yscale('log')\n",
    "        plt.xlabel('Time(s)')\n",
    "        plt.ylabel(ylabel)\n",
    "        plt.grid(True)\n",
    "        file_name += species + ',' \n",
    "    if file_save:\n",
    "        plt.savefig(path + file_name+'(p-{},power-{},duty-{},period-{})'.format(p, input_power, duty, period) + '.png')\n",
    "    plt.legend(input_species)\n",
    "    plt.show()\n"
   ]
  }
 ],
 "metadata": {
  "kernelspec": {
   "display_name": "Python 3",
   "language": "python",
   "name": "python3"
  },
  "language_info": {
   "codemirror_mode": {
    "name": "ipython",
    "version": 3
   },
   "file_extension": ".py",
   "mimetype": "text/x-python",
   "name": "python",
   "nbconvert_exporter": "python",
   "pygments_lexer": "ipython3",
   "version": "3.6.9"
  }
 },
 "nbformat": 4,
 "nbformat_minor": 4
}
