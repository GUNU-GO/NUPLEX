{
 "cells": [
  {
   "cell_type": "code",
   "execution_count": 2,
   "metadata": {},
   "outputs": [],
   "source": [
    "import numpy as np\n",
    "import matplotlib.pyplot as plt\n",
    "import xs\n",
    "import time\n",
    "import pandas as pd\n",
    "from scipy.optimize import curve_fit\n",
    "from constants import *"
   ]
  },
  {
   "cell_type": "code",
   "execution_count": 15,
   "metadata": {},
   "outputs": [],
   "source": [
    "def fitting_function(Te,a0,a1,a2):\n",
    "    xs = 0\n",
    "    a_list = np.array([a0,a1,a2])\n",
    "    for i,a in enumerate(a_list):\n",
    "        xs += a*np.log(Te)**i\n",
    "    return np.exp(xs)\n",
    "\n",
    "def xs_test(Te):\n",
    "    xs = 0\n",
    "    for i,a in enumerate(popt):\n",
    "        xs += a*np.log(Te)**i\n",
    "    xs = np.exp(xs)\n",
    "    return xs"
   ]
  },
  {
   "cell_type": "code",
   "execution_count": 24,
   "metadata": {},
   "outputs": [],
   "source": [
    "reaction_list = ['reaction13']\n",
    "#reaction_list = ['reaction6_0','reaction6_1','reaction6_2','reaction6_5','reaction6_6','reaction6_7','reaction6_8','reaction6_9']\n",
    "#reaction_list = ['reaction3_1','reaction3_2','reaction3_3','reaction3_4','reaction3_5','reaction3_6']\n",
    "data = pd.read_excel('XS_test.xlsx',header=1)\n",
    "Te_list = np.linspace(0.1,1000,400)"
   ]
  },
  {
   "cell_type": "code",
   "execution_count": 25,
   "metadata": {},
   "outputs": [
    {
     "name": "stdout",
     "output_type": "stream",
     "text": [
      "reaction13\n"
     ]
    },
    {
     "data": {
      "image/png": "[encoded data removed]",
      "text/plain": [
       "<Figure size 432x288 with 1 Axes>"
      ]
     },
     "metadata": {
      "needs_background": "light"
     },
     "output_type": "display_data"
    },
    {
     "name": "stdout",
     "output_type": "stream",
     "text": [
      "[-48.92557576   8.32912175  -2.18562087] [0.21855483 0.24241545 0.06568696]\n"
     ]
    }
   ],
   "source": [
    "result_data = np.array([])\n",
    "for i in reaction_list:\n",
    "    print(i)\n",
    "    Te_data = data[i+'[eV]']\n",
    "    xs_data = data[i+'[cm2]']\n",
    "    x = np.array(Te_data)\n",
    "    x = x[~np.isnan(x)]\n",
    "    y = np.array(xs_data)\n",
    "    y = y[~np.isnan(y)]\n",
    "    curve = curve_fit(fitting_function,x,y)\n",
    "    popt,pcov = curve\n",
    "    err = np.sqrt(np.diag(pcov))\n",
    "    result_data = np.append(result_data,popt)\n",
    "    plt.plot(x,y)\n",
    "    plt.plot(Te_list,xs_test(Te_list))\n",
    "    plt.legend(['point','fitted'])\n",
    "    plt.xscale('log')\n",
    "    plt.yscale('log')\n",
    "    plt.ylim(1e-20)\n",
    "    plt.show()\n",
    "    print(popt, err)"
   ]
  },
  {
   "cell_type": "code",
   "execution_count": 42,
   "metadata": {},
   "outputs": [],
   "source": [
    "Te_list = np.linspace(0.026,100,200)\n",
    "def check(Te,reaction_name):\n",
    "    if 'reaction3_' in reaction_name:\n",
    "        idx = int(reaction_name[-1])-1\n",
    "        a_list = reaction3_coefficient[idx]\n",
    "        xs = 0\n",
    "        for i,a in enumerate(a_list):\n",
    "            xs += a*np.log(Te)**i\n",
    "        return np.exp(xs)*1e-4"
   ]
  },
  {
   "cell_type": "code",
   "execution_count": 24,
   "metadata": {},
   "outputs": [],
   "source": [
    "xs_coefficient = np.array([-4.88352502e+01,  8.16822153e+00, -2.09388669e+00, -1.68482385e-02,\n",
    "       -6.08781268e+01,  1.45437955e+01, -3.16752714e+00,  2.23785421e-01,\n",
    "       -6.24376899e+01,  1.53689265e+01, -3.38305482e+00,  2.42307014e-01,\n",
    "       -6.22651763e+01,  1.51235068e+01, -3.31356791e+00,  2.35910055e-01,\n",
    "       -6.17798128e+01,  1.47114812e+01, -3.21071852e+00,  2.27478732e-01,\n",
    "       -6.24611670e+01,  1.51252163e+01, -3.31378496e+00,  2.36080398e-01,\n",
    "       -6.29468899e+01,  1.53969768e+01, -3.37378485e+00,  2.40547579e-01,\n",
    "       -6.06535865e+01,  1.34762175e+01, -2.87508907e+00,  1.97807252e-01,\n",
    "       -6.10397149e+01,  1.37275074e+01, -2.95992360e+00,  2.06407014e-01,\n",
    "       -3.96411903e+01,  3.07335765e+00, -1.79451440e+00,  2.10455636e-01,\n",
    "       -4.54668033e+01,  7.65036410e+00, -3.88771341e+00,  4.99480229e-01,\n",
    "       -4.73606733e+01,  7.45280495e+00, -3.80957584e+00,  4.89819803e-01,\n",
    "       -5.49672992e+01,  1.57156397e+01, -7.15744055e+00,  8.99093508e-01,\n",
    "       -6.00146644e+01,  2.04587514e+01, -8.89365249e+00,  1.09538560e+00,\n",
    "       -6.39911374e+01,  2.37528096e+01, -9.96974533e+00,  1.20625493e+00])"
   ]
  }
 ],
 "metadata": {
  "kernelspec": {
   "display_name": "Python 3",
   "language": "python",
   "name": "python3"
  },
  "language_info": {
   "codemirror_mode": {
    "name": "ipython",
    "version": 3
   },
   "file_extension": ".py",
   "mimetype": "text/x-python",
   "name": "python",
   "nbconvert_exporter": "python",
   "pygments_lexer": "ipython3",
   "version": "3.6.10"
  }
 },
 "nbformat": 4,
 "nbformat_minor": 4
}
