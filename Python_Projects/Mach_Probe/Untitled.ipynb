{
 "cells": [
  {
   "cell_type": "code",
   "execution_count": 4,
   "metadata": {},
   "outputs": [
    {
     "name": "stdout",
     "output_type": "stream",
     "text": [
      "2.3133062011532675e-06\n"
     ]
    }
   ],
   "source": [
    "from numpy import sin, pi, sqrt, arccos, log\n",
    "from pandas import read_excel\n",
    "\n",
    "e = 1.602e-19 # [C] electron charge\n",
    "r_p = 0.15e-3 # [m] probe radius\n",
    "l_p = 1e-3 # [m] probe length\n",
    "h = 0.5e-3 # [m] Hole radius\n",
    "s = 0.7e-3 # [m] Rotation center to Hole edge\n",
    "R = 0.6e-3 # [m] Rotation center to Wire center\n",
    "m_i = (19*2+10) * 1.67e-27 #[kg] mass of BF2+\n",
    "k = 1.38e-23  #[m2kg/s2K] Boltzmann const\n",
    "alpha = pi/2 # [rad] angle between B-field and Rotation center to Wire center\n",
    "gamma = (1+0.5)/(2+0.5)\n",
    "\n",
    "class Machprobe():\n",
    "    def __init__(self, ne, Te, Ti, m_i, I):\n",
    "        self.ne = ne\n",
    "        self.I = I\n",
    "        self.Cs =sqrt(e*(Te+Ti)/(m_i))\n",
    "        d_alpha = arccos((s**2 + R**2 - h**2)/(2*s*R))\n",
    "        self.A_eff = l_p*(R*sin(alpha)+r_p-max(R*sin(alpha)-r_p, s*sin(alpha-d_alpha)))\n",
    "        #print('Te : {} eV'.format(Te))\n",
    "        #print('Ti : {} eV'.format(Ti))\n",
    "        #print('Effective area : {} m2'.format(self.A_eff))\n",
    "        #print('Ion sound speed : {} m/s'.format(self.Cs))\n",
    "        \n",
    "    def perp_current(self):\n",
    "        self.I_D = (r_p/l_p)*(1-gamma)*self.A_eff     # diffusion current calculation\n",
    "        self.I_sat = gamma*e*self.A_eff*self.Cs*self.ne     # saturation current calculation\n",
    "        self.I_perp = self.I - self.I_D - self.I_sat             # perpendicular current calculation\n",
    "        \n",
    "        #print('diffusion current : ',self.I_D)\n",
    "        #print('saturation current : ',self.I_sat)\n",
    "        #print('perp current : ',self.I_perp)\n",
    "        \n",
    "test = Machprobe(1e17,5,0.1,m_i,1e-5)\n",
    "test.perp_current()\n",
    "print(test.I_perp)"
   ]
  },
  {
   "cell_type": "code",
   "execution_count": null,
   "metadata": {},
   "outputs": [],
   "source": []
  }
 ],
 "metadata": {
  "kernelspec": {
   "display_name": "Python 3",
   "language": "python",
   "name": "python3"
  },
  "language_info": {
   "codemirror_mode": {
    "name": "ipython",
    "version": 3
   },
   "file_extension": ".py",
   "mimetype": "text/x-python",
   "name": "python",
   "nbconvert_exporter": "python",
   "pygments_lexer": "ipython3",
   "version": "3.6.10"
  }
 },
 "nbformat": 4,
 "nbformat_minor": 4
}
