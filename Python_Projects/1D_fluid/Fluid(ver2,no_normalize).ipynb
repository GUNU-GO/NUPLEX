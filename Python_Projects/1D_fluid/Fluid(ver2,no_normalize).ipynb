{
 "cells": [
  {
   "cell_type": "code",
   "execution_count": 1,
   "metadata": {},
   "outputs": [],
   "source": [
    "import numpy as np\n",
    "import matplotlib.pyplot as plt\n",
    "from scipy.optimize import fsolve\n",
    "from scipy.integrate import odeint"
   ]
  },
  {
   "cell_type": "code",
   "execution_count": 8,
   "metadata": {},
   "outputs": [
    {
     "name": "stdout",
     "output_type": "stream",
     "text": [
      "n_g : 3.22061191626409e+20\n",
      "n_e0 : 8.856682769726248e+16\n",
      "n_n0 : 8.856682769726248e+16\n"
     ]
    }
   ],
   "source": [
    "# Physical constant\n",
    "e = 1.6e-19 #[C] electron charge \n",
    "M_i = 32*1.6605e-27 #[kg] ion mass\n",
    "M_n = 32*1.6605e-27 #[kg] ion mass\n",
    "m = 9.11e-31 #[kg] electron mass\n",
    "k = 1.38e-23 #[m2 kg /s2 K] Boltzmann constant\n",
    "\n",
    "# Experimental constant\n",
    "p = 10/7.5 #[mTorr to Pa]\n",
    "R = 3e-2 #[m] plasma half-width\n",
    "L = 33e-2 #[m] chamber length\n",
    "Tg = 300 #[K] gas temperature\n",
    "R_0 = 2.5e-2 #[m] chosen normalization length\n",
    "B_0 = 0.03 #[T] magnetic field\n",
    "gamma = 20 # electron-ion temperature ratio Te/Ti\n",
    "Te = 5 #[eV] electron temperature\n",
    "Ti = Te/gamma\n",
    "Tn = Ti\n",
    "n_g = p/k/Tg #[m-3] neutral gas density\n",
    "n_e0 = n_g * 2.75e-4 #experimental condition\n",
    "alpha_0 = 1\n",
    "n_n0 = alpha_0*n_e0\n",
    "Cs = np.sqrt(e*Te/M_i)\n",
    "print('n_g :', n_g)\n",
    "print('n_e0 :', n_e0)\n",
    "print('n_n0 :', n_n0)"
   ]
  },
  {
   "cell_type": "code",
   "execution_count": 9,
   "metadata": {},
   "outputs": [],
   "source": [
    "class fluid_model():\n",
    "    def calculation(self, eqn, x):\n",
    "        n_e = eqn[0]\n",
    "        n_n = eqn[1]\n",
    "        v_i = eqn[2]\n",
    "        v_e = eqn[3]\n",
    "        v_n = eqn[4]\n",
    "        phi = eqn[5]\n",
    "        \n",
    "        K_iz =  2.34e-15*Te**1.03*np.exp(-12.29/Te) #[m3/s]\n",
    "        K_att = 1.07e-15*Te**-1.391*np.exp(-6.26/Te) #[m3/s]\n",
    "        K_rec = 5.2e-14*(0.026/Ti)**0.44 #[m3/s]\n",
    "        nu_i = 3.95e-16*n_g #[s-1]\n",
    "        nu_e = 4.7e-14*Te**0.5*n_g #[s-1]\n",
    "        nu_n = 3.95e-16*n_g #[s-1]\n",
    "        \n",
    "        w_ce = e*B_0/m\n",
    "        Di = e*Ti/(M_i*nu_i)\n",
    "        nu_L = 2*Di/(R*L)*(1+Te/Ti)**0.5\n",
    "        \n",
    "        Cs = np.sqrt(e*Te/M_i)\n",
    "        #### np.linalg.solve 활용해보기\n",
    "        \n",
    "        M = np.array([[v_e, 0, 0, n_e, 0, 0],\n",
    "                      [v_i, v_i, (n_e+n_n), 0, 0, 0],\n",
    "                      [0, v_n, 0, 0, n_n, 0],\n",
    "                      [1, 0, 0, 0, 0, -n_e/Te], \n",
    "                      [v_i**2+e*Ti/M_i, v_i**2+e*Ti/M_i, 2*(n_e+n_n)*v_i, 0, 0, e*(n_e+n_n)/M_i],\n",
    "                      [0, v_n**2+e*Tn/M_n, 0, 0, 2*n_n*v_n, -e*n_n/M_n]])\n",
    "\n",
    "        RHS = np.array([[(K_iz-K_att)*n_g*n_e-nu_L*(n_e+n_n)],\n",
    "                        [K_iz*n_g*n_e-K_rec*(n_e+n_n)*n_n-nu_L*(n_e+n_n)],\n",
    "                        [K_att*n_g*n_e-K_rec*(n_e+n_n)*n_n],\n",
    "                        [-((K_iz*n_g+K_att*n_g+nu_e)*n_e*v_e*m/(e*Te) + w_ce**2/(K_iz*n_g+K_att*n_g+nu_e)*n_e*v_e*m/(e*Te))],\n",
    "                        [-nu_n*(n_e+n_n)*v_i],\n",
    "                        [-nu_n*n_n*v_n]])\n",
    "        \n",
    "        result = np.reshape(np.linalg.solve(M,RHS),(6,))\n",
    "        \n",
    "        return result\n",
    "\n",
    "    \n",
    "    def integration(self):\n",
    "        init = [n_e0, n_n0, 2*Cs, 0.5*Cs, 0.5*Cs, -Te] #E, N, U, V, W, Phi        #U,V,W,Phi 초기값은 바꿔야할듯\n",
    "        self.x = np.linspace(0,2*R,1000)\n",
    "        ans = odeint(self.calculation, init, self.x, rtol=10**-3, mxstep=10**6)\n",
    "        print(ans)\n",
    "        self.sol_E = ans[:,0]\n",
    "        self.sol_N = ans[:,1]\n",
    "        self.sol_I = ans[:,0]+ans[:,1]\n",
    "        self.sol_U = ans[:,2]\n",
    "        self.sol_V = ans[:,3]\n",
    "        self.sol_W = ans[:,4]\n",
    "        self.sol_Phi = ans[:,5]\n",
    "        \n",
    "    def visualize(self):\n",
    "        plt.figure(figsize=(16,8))\n",
    "        \n",
    "        plt.plot(self.x, self.sol_E)\n",
    "        plt.plot(self.x, self.sol_N)\n",
    "        plt.plot(self.x, self.sol_I)\n",
    "        #plt.plot(self.x, self.sol_Phi)\n",
    "        plt.xlabel('Normalized position')\n",
    "        plt.ylabel('Normalized densities')\n",
    "        plt.legend(['Electron','Negative','Positive'])\n",
    "        #plt.ylim(0,1)\n",
    "        plt.grid(True)\n",
    "        \n",
    "#         plt.subplot(422)\n",
    "#         plt.plot(self.X, self.sol_N)\n",
    "#         plt.xlabel('Normalized x')\n",
    "#         plt.ylabel('Normalized density(N)')\n",
    "#         plt.grid(True)\n",
    "#         plt.subplots_adjust(hspace = 0.5)\n",
    "        \n",
    "#         plt.show()"
   ]
  },
  {
   "cell_type": "code",
   "execution_count": 10,
   "metadata": {},
   "outputs": [
    {
     "name": "stdout",
     "output_type": "stream",
     "text": [
      "[[ 8.85668277e+16  8.85668277e+16  7.76033662e+03  1.94008415e+03\n",
      "   1.94008415e+03 -5.00000000e+00]\n",
      " [ 7.73727130e+16  9.94966624e+16  7.78102031e+03  2.24158781e+03\n",
      "   1.72680151e+03 -5.09616772e+00]\n",
      " [ 6.68201135e+16  1.10043883e+17  7.78909144e+03  2.61655747e+03\n",
      "   1.56140536e+03 -5.15704108e+00]\n",
      " ...\n",
      " [            nan             nan             nan             nan\n",
      "              nan             nan]\n",
      " [            nan             nan             nan             nan\n",
      "              nan             nan]\n",
      " [            nan             nan             nan             nan\n",
      "              nan             nan]]\n"
     ]
    },
    {
     "data": {
      "image/png": "[encoded data removed]",
      "text/plain": [
       "<Figure size 1152x576 with 1 Axes>"
      ]
     },
     "metadata": {
      "needs_background": "light"
     },
     "output_type": "display_data"
    }
   ],
   "source": [
    "test_model = fluid_model()\n",
    "test_model.integration()\n",
    "test_model.visualize()\n",
    "#test_model.visualize()"
   ]
  },
  {
   "cell_type": "code",
   "execution_count": 17,
   "metadata": {},
   "outputs": [
    {
     "data": {
      "text/plain": [
       "\u001b[1;31mSignature:\u001b[0m \u001b[0mnp\u001b[0m\u001b[1;33m.\u001b[0m\u001b[0mlinalg\u001b[0m\u001b[1;33m.\u001b[0m\u001b[0msolve\u001b[0m\u001b[1;33m(\u001b[0m\u001b[0ma\u001b[0m\u001b[1;33m,\u001b[0m \u001b[0mb\u001b[0m\u001b[1;33m)\u001b[0m\u001b[1;33m\u001b[0m\u001b[1;33m\u001b[0m\u001b[0m\n",
       "\u001b[1;31mDocstring:\u001b[0m\n",
       "Solve a linear matrix equation, or system of linear scalar equations.\n",
       "\n",
       "Computes the \"exact\" solution, `x`, of the well-determined, i.e., full\n",
       "rank, linear matrix equation `ax = b`.\n",
       "\n",
       "Parameters\n",
       "----------\n",
       "a : (..., M, M) array_like\n",
       "    Coefficient matrix.\n",
       "b : {(..., M,), (..., M, K)}, array_like\n",
       "    Ordinate or \"dependent variable\" values.\n",
       "\n",
       "Returns\n",
       "-------\n",
       "x : {(..., M,), (..., M, K)} ndarray\n",
       "    Solution to the system a x = b.  Returned shape is identical to `b`.\n",
       "\n",
       "Raises\n",
       "------\n",
       "LinAlgError\n",
       "    If `a` is singular or not square.\n",
       "\n",
       "Notes\n",
       "-----\n",
       "\n",
       ".. versionadded:: 1.8.0\n",
       "\n",
       "Broadcasting rules apply, see the `numpy.linalg` documentation for\n",
       "details.\n",
       "\n",
       "The solutions are computed using LAPACK routine ``_gesv``.\n",
       "\n",
       "`a` must be square and of full-rank, i.e., all rows (or, equivalently,\n",
       "columns) must be linearly independent; if either is not true, use\n",
       "`lstsq` for the least-squares best \"solution\" of the\n",
       "system/equation.\n",
       "\n",
       "References\n",
       "----------\n",
       ".. [1] G. Strang, *Linear Algebra and Its Applications*, 2nd Ed., Orlando,\n",
       "       FL, Academic Press, Inc., 1980, pg. 22.\n",
       "\n",
       "Examples\n",
       "--------\n",
       "Solve the system of equations ``3 * x0 + x1 = 9`` and ``x0 + 2 * x1 = 8``:\n",
       "\n",
       ">>> a = np.array([[3,1], [1,2]])\n",
       ">>> b = np.array([9,8])\n",
       ">>> x = np.linalg.solve(a, b)\n",
       ">>> x\n",
       "array([2.,  3.])\n",
       "\n",
       "Check that the solution is correct:\n",
       "\n",
       ">>> np.allclose(np.dot(a, x), b)\n",
       "True\n",
       "\u001b[1;31mFile:\u001b[0m      c:\\users\\gunu\\anaconda3\\envs\\py_36\\lib\\site-packages\\numpy\\linalg\\linalg.py\n",
       "\u001b[1;31mType:\u001b[0m      function\n"
      ]
     },
     "metadata": {},
     "output_type": "display_data"
    }
   ],
   "source": [
    "np.linalg.solve?"
   ]
  },
  {
   "cell_type": "code",
   "execution_count": null,
   "metadata": {},
   "outputs": [],
   "source": []
  }
 ],
 "metadata": {
  "kernelspec": {
   "display_name": "Python 3",
   "language": "python",
   "name": "python3"
  },
  "language_info": {
   "codemirror_mode": {
    "name": "ipython",
    "version": 3
   },
   "file_extension": ".py",
   "mimetype": "text/x-python",
   "name": "python",
   "nbconvert_exporter": "python",
   "pygments_lexer": "ipython3",
   "version": "3.6.9"
  }
 },
 "nbformat": 4,
 "nbformat_minor": 4
}
