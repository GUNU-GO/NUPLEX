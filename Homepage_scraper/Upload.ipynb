{
 "cells": [
  {
   "cell_type": "markdown",
   "metadata": {},
   "source": [
    "### 업로드 방식\n",
    "1. write클릭\n",
    "2. 제목 입력\n",
    "3. editor HTML로 전환 후 내용이랑 download 링크 첨부\n",
    "4. 순서 반대로 해서 업로드 클릭\n"
   ]
  },
  {
   "cell_type": "code",
   "execution_count": 8,
   "metadata": {},
   "outputs": [],
   "source": [
    "from selenium import webdriver\n",
    "import time\n",
    "import requests\n",
    "from bs4 import BeautifulSoup\n",
    "import json\n",
    "from collections import OrderedDict\n",
    "\n",
    "browser = webdriver.Chrome()\n",
    "browser.get('http://nuplex.snu.ac.kr/')\n",
    "user_id = browser.find_element_by_xpath('//*[@id=\"edit-name\"]')\n",
    "password = browser.find_element_by_xpath('//*[@id=\"edit-pass\"]')\n",
    "submit = browser.find_element_by_xpath('//*[@id=\"edit-submit\"]')\n",
    "user_id.send_keys(\"snuadmin\")\n",
    "password.send_keys('snu12354')\n",
    "submit.click()\n",
    "\n",
    "#보드 접근\n",
    "browser.get('http://nuplex.snu.ac.kr/board/seminar_old')\n",
    "\n",
    "#게시물 업로드 \n",
    "for n in range(409,550):\n",
    "    write = browser.find_element_by_xpath('//*[@id=\"post-content\"]/div/div/a')\n",
    "    write.click() #write클릭\n",
    "    editor = browser.find_element_by_xpath('//*[@id=\"switch_edit-post-content-value\"]')\n",
    "    editor.click() #HTML editor로 전환\n",
    "    \n",
    "    with open(r'C:/Users/metyu/NUPLEX/json_data/new/'+str(n)+'.json', 'rt', encoding='UTF8') as f:\n",
    "        json_data = json.load(f)\n",
    "    titles = browser.find_element_by_xpath('//*[@id=\"edit-post-title\"]')\n",
    "    titles.send_keys(str(json_data['title'])) #제목입력\n",
    "    \n",
    "    contents = browser.find_element_by_xpath('//*[@id=\"edit-post-content-value\"]')\n",
    "    contents.send_keys(str(json_data['content'])+'<br/><br/><br/>')\n",
    "    if 'download1' in json_data:\n",
    "        contents.send_keys(str(json_data['download1'])+'<br/>')\n",
    "    if 'download2' in json_data:\n",
    "        contents.send_keys(str(json_data['download2']))#내용이랑 download링크 첨부\n",
    "        \n",
    "    upload = browser.find_element_by_xpath('//*[@id=\"edit-submit\"]')\n",
    "    upload.click() #업로드 클릭"
   ]
  },
  {
   "cell_type": "code",
   "execution_count": null,
   "metadata": {},
   "outputs": [],
   "source": []
  }
 ],
 "metadata": {
  "kernelspec": {
   "display_name": "Python 3",
   "language": "python",
   "name": "python3"
  },
  "language_info": {
   "codemirror_mode": {
    "name": "ipython",
    "version": 3
   },
   "file_extension": ".py",
   "mimetype": "text/x-python",
   "name": "python",
   "nbconvert_exporter": "python",
   "pygments_lexer": "ipython3",
   "version": "3.6.9"
  }
 },
 "nbformat": 4,
 "nbformat_minor": 2
}
